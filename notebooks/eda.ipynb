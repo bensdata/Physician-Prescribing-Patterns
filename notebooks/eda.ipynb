{
 "cells": [
  {
   "cell_type": "code",
   "execution_count": 1,
   "metadata": {},
   "outputs": [],
   "source": [
    "import pandas as pd\n",
    "import numpy as np\n",
    "from matplotlib import pyplot as plt"
   ]
  },
  {
   "cell_type": "code",
   "execution_count": 2,
   "metadata": {},
   "outputs": [],
   "source": [
    "pd.set_option('display.max_columns', 500)\n",
    "pd.set_option('display.max_rows', 500)"
   ]
  },
  {
   "cell_type": "markdown",
   "metadata": {},
   "source": [
    "Prescriber Data  \n",
    "https://data.cms.gov/Medicare-Part-D/Medicare-Provider-Utilization-and-Payment-Data-201/77gb-8z53  \n",
    "Physician Compare data  \n",
    "https://data.medicare.gov/Physician-Compare/Physician-Compare-National-Downloadable-File/mj5m-pzi6"
   ]
  },
  {
   "cell_type": "markdown",
   "metadata": {},
   "source": [
    "\n",
    "#### read in all columns, rename some columns "
   ]
  },
  {
   "cell_type": "code",
   "execution_count": 3,
   "metadata": {
    "scrolled": true
   },
   "outputs": [
    {
     "name": "stdout",
     "output_type": "stream",
     "text": [
      "Wall time: 3min 47s\n"
     ]
    }
   ],
   "source": [
    "%%time\n",
    "prescriber_df = pd.read_csv('../data/archive/Medicare_Provider_Utilization_and_Payment_Data__2017_Part_D_Prescriber.csv')\n",
    "prescriber_df = prescriber_df.rename(columns={'nppes_provider_last_org_name':'last_name','nppes_provider_first_name':'first_name',\n",
    "                                              'nppes_provider_city':'city','nppes_provider_state': 'state',\n",
    "                                              'specialty_description':'specialty','generic_name':'drug',})"
   ]
  },
  {
   "cell_type": "markdown",
   "metadata": {},
   "source": [
    "#### create list of antipsych drugs"
   ]
  },
  {
   "cell_type": "code",
   "execution_count": 4,
   "metadata": {},
   "outputs": [],
   "source": [
    "list_of_all_antipsychs = ['ARIPIPRAZOLE',\n",
    "'ARIPIPRAZOLE LAUROXIL',\n",
    "'CHLORPROMAZINE HCL',\n",
    "'CLOZAPINE',\n",
    "'ILOPERIDONE',\n",
    "'FLUPHENAZINE DECANOATE',\n",
    "'FLUPHENAZINE HCL',\n",
    "'ZIPRASIDONE HCL',\n",
    "'ZIPRASIDONE MESYLATE',\n",
    "'HALOPERIDOL LACTATE',\n",
    "'HALOPERIDOL DECANOATE',\n",
    "'HALOPERIDOL',\n",
    "'PALIPERIDONE',\n",
    "'PALIPERIDONE PALMITATE',\n",
    "'LURASIDONE HCL',\n",
    "'LOXAPINE SUCCINATE',\n",
    "'MOLINDONE HCL',\n",
    "'PIMAVANSERIN TARTRATE',\n",
    "'OLANZAPINE',\n",
    "'OLANZAPINE/FLUOXETINE HCL',\n",
    "'PIMOZIDE',\n",
    "'PERPHENAZINE',\n",
    "'PERPHENAZINE/AMITRIPTYLINE HCL',\n",
    "'QUETIAPINE FUMARATE',\n",
    "'BREXPIPRAZOLE',\n",
    "'RISPERIDONE',\n",
    "'RISPERIDONE MICROSPHERES',\n",
    "'ASENAPINE MALEATE',\n",
    "'THIORIDAZINE HCL',\n",
    "'THIOTHIXENE',\n",
    "'TRIFLUOPERAZINE HCL',\n",
    "'CARIPRAZINE HCL',\n",
    "'OLANZAPINE PAMOATE']"
   ]
  },
  {
   "cell_type": "code",
   "execution_count": 5,
   "metadata": {},
   "outputs": [
    {
     "data": {
      "text/plain": [
       "(25209130, 21)"
      ]
     },
     "execution_count": 5,
     "metadata": {},
     "output_type": "execute_result"
    }
   ],
   "source": [
    "prescriber_df.shape"
   ]
  },
  {
   "cell_type": "markdown",
   "metadata": {},
   "source": [
    "#### Run query on dataframe for list of drugs (credit: Mary's Queries)"
   ]
  },
  {
   "cell_type": "code",
   "execution_count": 6,
   "metadata": {},
   "outputs": [],
   "source": [
    "prescriber_df = prescriber_df.query('drug in @list_of_all_antipsychs')"
   ]
  },
  {
   "cell_type": "code",
   "execution_count": 7,
   "metadata": {},
   "outputs": [
    {
     "data": {
      "text/plain": [
       "(509235, 21)"
      ]
     },
     "execution_count": 7,
     "metadata": {},
     "output_type": "execute_result"
    }
   ],
   "source": [
    "prescriber_df.shape"
   ]
  },
  {
   "cell_type": "markdown",
   "metadata": {},
   "source": [
    "#### Some EDA:\n",
    "    are there duplicates? there shouldn't be\n",
    "    notnulls\n",
    "    how many unique values for each column?\n",
    "    "
   ]
  },
  {
   "cell_type": "code",
   "execution_count": 8,
   "metadata": {},
   "outputs": [
    {
     "data": {
      "text/plain": [
       "(509235, 21)"
      ]
     },
     "execution_count": 8,
     "metadata": {},
     "output_type": "execute_result"
    }
   ],
   "source": [
    "prescriber_df_drop_dup = prescriber_df.drop_duplicates()\n",
    "prescriber_df_drop_dup.shape"
   ]
  },
  {
   "cell_type": "code",
   "execution_count": 9,
   "metadata": {},
   "outputs": [
    {
     "data": {
      "text/plain": [
       "7536552.0"
      ]
     },
     "execution_count": 9,
     "metadata": {},
     "output_type": "execute_result"
    }
   ],
   "source": [
    "prescriber_df.total_claim_count_ge65.sum()"
   ]
  },
  {
   "cell_type": "code",
   "execution_count": 10,
   "metadata": {},
   "outputs": [
    {
     "data": {
      "text/plain": [
       "294370.0"
      ]
     },
     "execution_count": 10,
     "metadata": {},
     "output_type": "execute_result"
    }
   ],
   "source": [
    "prescriber_df.bene_count_ge65.sum()"
   ]
  },
  {
   "cell_type": "code",
   "execution_count": 11,
   "metadata": {},
   "outputs": [
    {
     "data": {
      "text/plain": [
       "npi                              509235\n",
       "last_name                        509233\n",
       "first_name                       509232\n",
       "city                             509235\n",
       "state                            509235\n",
       "specialty                        509235\n",
       "description_flag                 509235\n",
       "drug_name                        509235\n",
       "drug                             509235\n",
       "bene_count                        99247\n",
       "total_claim_count                509235\n",
       "total_30_day_fill_count          509235\n",
       "total_day_supply                 509235\n",
       "total_drug_cost                  509235\n",
       "bene_count_ge65                  152815\n",
       "bene_count_ge65_suppress_flag    356420\n",
       "total_claim_count_ge65           347730\n",
       "ge65_suppress_flag               161505\n",
       "total_30_day_fill_count_ge65     347730\n",
       "total_day_supply_ge65            347730\n",
       "total_drug_cost_ge65             347730\n",
       "dtype: int64"
      ]
     },
     "execution_count": 11,
     "metadata": {},
     "output_type": "execute_result"
    }
   ],
   "source": [
    "prescriber_df.notnull().sum()"
   ]
  },
  {
   "cell_type": "code",
   "execution_count": 12,
   "metadata": {
    "scrolled": false
   },
   "outputs": [
    {
     "data": {
      "text/plain": [
       "npi                              149764\n",
       "last_name                         62083\n",
       "first_name                        20671\n",
       "city                               8361\n",
       "state                                59\n",
       "specialty                           118\n",
       "description_flag                      2\n",
       "drug_name                            57\n",
       "drug                                 33\n",
       "bene_count                          251\n",
       "total_claim_count                  1192\n",
       "total_30_day_fill_count            6369\n",
       "total_day_supply                  14128\n",
       "total_drug_cost                  329524\n",
       "bene_count_ge65                     161\n",
       "bene_count_ge65_suppress_flag         2\n",
       "total_claim_count_ge65              755\n",
       "ge65_suppress_flag                    2\n",
       "total_30_day_fill_count_ge65       3613\n",
       "total_day_supply_ge65              8075\n",
       "total_drug_cost_ge65             139208\n",
       "dtype: int64"
      ]
     },
     "execution_count": 12,
     "metadata": {},
     "output_type": "execute_result"
    }
   ],
   "source": [
    "prescriber_df.nunique()"
   ]
  },
  {
   "cell_type": "code",
   "execution_count": 13,
   "metadata": {
    "scrolled": true
   },
   "outputs": [
    {
     "data": {
      "text/html": [
       "<div>\n",
       "<style scoped>\n",
       "    .dataframe tbody tr th:only-of-type {\n",
       "        vertical-align: middle;\n",
       "    }\n",
       "\n",
       "    .dataframe tbody tr th {\n",
       "        vertical-align: top;\n",
       "    }\n",
       "\n",
       "    .dataframe thead th {\n",
       "        text-align: right;\n",
       "    }\n",
       "</style>\n",
       "<table border=\"1\" class=\"dataframe\">\n",
       "  <thead>\n",
       "    <tr style=\"text-align: right;\">\n",
       "      <th></th>\n",
       "      <th>npi</th>\n",
       "      <th>last_name</th>\n",
       "      <th>first_name</th>\n",
       "      <th>city</th>\n",
       "      <th>state</th>\n",
       "      <th>specialty</th>\n",
       "      <th>description_flag</th>\n",
       "      <th>drug_name</th>\n",
       "      <th>drug</th>\n",
       "      <th>bene_count</th>\n",
       "      <th>total_claim_count</th>\n",
       "      <th>total_30_day_fill_count</th>\n",
       "      <th>total_day_supply</th>\n",
       "      <th>total_drug_cost</th>\n",
       "      <th>bene_count_ge65</th>\n",
       "      <th>bene_count_ge65_suppress_flag</th>\n",
       "      <th>total_claim_count_ge65</th>\n",
       "      <th>ge65_suppress_flag</th>\n",
       "      <th>total_30_day_fill_count_ge65</th>\n",
       "      <th>total_day_supply_ge65</th>\n",
       "      <th>total_drug_cost_ge65</th>\n",
       "    </tr>\n",
       "  </thead>\n",
       "  <tbody>\n",
       "    <tr>\n",
       "      <th>47</th>\n",
       "      <td>1417981960</td>\n",
       "      <td>TILLMANNS</td>\n",
       "      <td>REGINE</td>\n",
       "      <td>MELROSE</td>\n",
       "      <td>MA</td>\n",
       "      <td>Internal Medicine</td>\n",
       "      <td>S</td>\n",
       "      <td>QUETIAPINE FUMARATE</td>\n",
       "      <td>QUETIAPINE FUMARATE</td>\n",
       "      <td>NaN</td>\n",
       "      <td>13</td>\n",
       "      <td>23.0</td>\n",
       "      <td>680</td>\n",
       "      <td>106.34</td>\n",
       "      <td>NaN</td>\n",
       "      <td>*</td>\n",
       "      <td>NaN</td>\n",
       "      <td>*</td>\n",
       "      <td>NaN</td>\n",
       "      <td>NaN</td>\n",
       "      <td>NaN</td>\n",
       "    </tr>\n",
       "    <tr>\n",
       "      <th>103</th>\n",
       "      <td>1497031454</td>\n",
       "      <td>ORTIZ</td>\n",
       "      <td>CHRISTIAN</td>\n",
       "      <td>DALLAS</td>\n",
       "      <td>TX</td>\n",
       "      <td>Psychiatry</td>\n",
       "      <td>S</td>\n",
       "      <td>HALOPERIDOL</td>\n",
       "      <td>HALOPERIDOL</td>\n",
       "      <td>NaN</td>\n",
       "      <td>19</td>\n",
       "      <td>19.0</td>\n",
       "      <td>570</td>\n",
       "      <td>414.11</td>\n",
       "      <td>NaN</td>\n",
       "      <td>*</td>\n",
       "      <td>NaN</td>\n",
       "      <td>*</td>\n",
       "      <td>NaN</td>\n",
       "      <td>NaN</td>\n",
       "      <td>NaN</td>\n",
       "    </tr>\n",
       "    <tr>\n",
       "      <th>105</th>\n",
       "      <td>1437247335</td>\n",
       "      <td>AFSHAR</td>\n",
       "      <td>PARVIN</td>\n",
       "      <td>IRVINE</td>\n",
       "      <td>CA</td>\n",
       "      <td>Psychiatry</td>\n",
       "      <td>S</td>\n",
       "      <td>SAPHRIS</td>\n",
       "      <td>ASENAPINE MALEATE</td>\n",
       "      <td>NaN</td>\n",
       "      <td>11</td>\n",
       "      <td>11.0</td>\n",
       "      <td>320</td>\n",
       "      <td>9079.50</td>\n",
       "      <td>NaN</td>\n",
       "      <td>*</td>\n",
       "      <td>11.0</td>\n",
       "      <td>NaN</td>\n",
       "      <td>11.0</td>\n",
       "      <td>320.0</td>\n",
       "      <td>9079.50</td>\n",
       "    </tr>\n",
       "    <tr>\n",
       "      <th>190</th>\n",
       "      <td>1205899572</td>\n",
       "      <td>SARKAR</td>\n",
       "      <td>PURNIMA</td>\n",
       "      <td>EARLE</td>\n",
       "      <td>AR</td>\n",
       "      <td>Internal Medicine</td>\n",
       "      <td>S</td>\n",
       "      <td>HALOPERIDOL</td>\n",
       "      <td>HALOPERIDOL</td>\n",
       "      <td>NaN</td>\n",
       "      <td>23</td>\n",
       "      <td>23.2</td>\n",
       "      <td>695</td>\n",
       "      <td>1390.46</td>\n",
       "      <td>NaN</td>\n",
       "      <td>*</td>\n",
       "      <td>11.0</td>\n",
       "      <td>NaN</td>\n",
       "      <td>11.0</td>\n",
       "      <td>330.0</td>\n",
       "      <td>258.83</td>\n",
       "    </tr>\n",
       "    <tr>\n",
       "      <th>215</th>\n",
       "      <td>1841603305</td>\n",
       "      <td>KING</td>\n",
       "      <td>SARA</td>\n",
       "      <td>WATERLOO</td>\n",
       "      <td>IA</td>\n",
       "      <td>Nurse Practitioner</td>\n",
       "      <td>S</td>\n",
       "      <td>ARIPIPRAZOLE</td>\n",
       "      <td>ARIPIPRAZOLE</td>\n",
       "      <td>NaN</td>\n",
       "      <td>30</td>\n",
       "      <td>30.2</td>\n",
       "      <td>855</td>\n",
       "      <td>6001.11</td>\n",
       "      <td>NaN</td>\n",
       "      <td>#</td>\n",
       "      <td>NaN</td>\n",
       "      <td>#</td>\n",
       "      <td>NaN</td>\n",
       "      <td>NaN</td>\n",
       "      <td>NaN</td>\n",
       "    </tr>\n",
       "    <tr>\n",
       "      <th>...</th>\n",
       "      <td>...</td>\n",
       "      <td>...</td>\n",
       "      <td>...</td>\n",
       "      <td>...</td>\n",
       "      <td>...</td>\n",
       "      <td>...</td>\n",
       "      <td>...</td>\n",
       "      <td>...</td>\n",
       "      <td>...</td>\n",
       "      <td>...</td>\n",
       "      <td>...</td>\n",
       "      <td>...</td>\n",
       "      <td>...</td>\n",
       "      <td>...</td>\n",
       "      <td>...</td>\n",
       "      <td>...</td>\n",
       "      <td>...</td>\n",
       "      <td>...</td>\n",
       "      <td>...</td>\n",
       "      <td>...</td>\n",
       "      <td>...</td>\n",
       "    </tr>\n",
       "    <tr>\n",
       "      <th>25208581</th>\n",
       "      <td>1598188617</td>\n",
       "      <td>CURTISS</td>\n",
       "      <td>LAWRENCE</td>\n",
       "      <td>MOLINE</td>\n",
       "      <td>IL</td>\n",
       "      <td>Nurse Practitioner</td>\n",
       "      <td>S</td>\n",
       "      <td>RISPERIDONE</td>\n",
       "      <td>RISPERIDONE</td>\n",
       "      <td>42.0</td>\n",
       "      <td>337</td>\n",
       "      <td>363.9</td>\n",
       "      <td>10324</td>\n",
       "      <td>3421.38</td>\n",
       "      <td>NaN</td>\n",
       "      <td>*</td>\n",
       "      <td>58.0</td>\n",
       "      <td>NaN</td>\n",
       "      <td>62.0</td>\n",
       "      <td>1834.0</td>\n",
       "      <td>410.53</td>\n",
       "    </tr>\n",
       "    <tr>\n",
       "      <th>25208619</th>\n",
       "      <td>1962452391</td>\n",
       "      <td>MAGNUSON</td>\n",
       "      <td>THOMAS</td>\n",
       "      <td>OMAHA</td>\n",
       "      <td>NE</td>\n",
       "      <td>Geriatric Psychiatry</td>\n",
       "      <td>S</td>\n",
       "      <td>CLOZAPINE</td>\n",
       "      <td>CLOZAPINE</td>\n",
       "      <td>NaN</td>\n",
       "      <td>25</td>\n",
       "      <td>25.0</td>\n",
       "      <td>648</td>\n",
       "      <td>3886.51</td>\n",
       "      <td>NaN</td>\n",
       "      <td>*</td>\n",
       "      <td>25.0</td>\n",
       "      <td>NaN</td>\n",
       "      <td>25.0</td>\n",
       "      <td>648.0</td>\n",
       "      <td>3886.51</td>\n",
       "    </tr>\n",
       "    <tr>\n",
       "      <th>25208680</th>\n",
       "      <td>1801996764</td>\n",
       "      <td>MCLAUGHLIN</td>\n",
       "      <td>JULE</td>\n",
       "      <td>BOULDER</td>\n",
       "      <td>CO</td>\n",
       "      <td>Physician Assistant</td>\n",
       "      <td>S</td>\n",
       "      <td>OLANZAPINE</td>\n",
       "      <td>OLANZAPINE</td>\n",
       "      <td>20.0</td>\n",
       "      <td>152</td>\n",
       "      <td>182.0</td>\n",
       "      <td>5239</td>\n",
       "      <td>2998.17</td>\n",
       "      <td>NaN</td>\n",
       "      <td>*</td>\n",
       "      <td>19.0</td>\n",
       "      <td>NaN</td>\n",
       "      <td>21.0</td>\n",
       "      <td>630.0</td>\n",
       "      <td>255.61</td>\n",
       "    </tr>\n",
       "    <tr>\n",
       "      <th>25208800</th>\n",
       "      <td>1558377648</td>\n",
       "      <td>MALLOZZI</td>\n",
       "      <td>MARINO</td>\n",
       "      <td>EPHRATA</td>\n",
       "      <td>PA</td>\n",
       "      <td>Internal Medicine</td>\n",
       "      <td>S</td>\n",
       "      <td>QUETIAPINE FUMARATE ER</td>\n",
       "      <td>QUETIAPINE FUMARATE</td>\n",
       "      <td>NaN</td>\n",
       "      <td>12</td>\n",
       "      <td>20.0</td>\n",
       "      <td>600</td>\n",
       "      <td>2781.07</td>\n",
       "      <td>NaN</td>\n",
       "      <td>*</td>\n",
       "      <td>NaN</td>\n",
       "      <td>*</td>\n",
       "      <td>NaN</td>\n",
       "      <td>NaN</td>\n",
       "      <td>NaN</td>\n",
       "    </tr>\n",
       "    <tr>\n",
       "      <th>25208880</th>\n",
       "      <td>1205072063</td>\n",
       "      <td>WIGHT</td>\n",
       "      <td>VIRGINIA</td>\n",
       "      <td>MACON</td>\n",
       "      <td>GA</td>\n",
       "      <td>Psychiatry</td>\n",
       "      <td>S</td>\n",
       "      <td>INVEGA SUSTENNA</td>\n",
       "      <td>PALIPERIDONE PALMITATE</td>\n",
       "      <td>25.0</td>\n",
       "      <td>110</td>\n",
       "      <td>110.4</td>\n",
       "      <td>3004</td>\n",
       "      <td>184381.42</td>\n",
       "      <td>NaN</td>\n",
       "      <td>*</td>\n",
       "      <td>NaN</td>\n",
       "      <td>*</td>\n",
       "      <td>NaN</td>\n",
       "      <td>NaN</td>\n",
       "      <td>NaN</td>\n",
       "    </tr>\n",
       "  </tbody>\n",
       "</table>\n",
       "<p>356420 rows × 21 columns</p>\n",
       "</div>"
      ],
      "text/plain": [
       "                 npi   last_name first_name      city state  \\\n",
       "47        1417981960   TILLMANNS     REGINE   MELROSE    MA   \n",
       "103       1497031454       ORTIZ  CHRISTIAN    DALLAS    TX   \n",
       "105       1437247335      AFSHAR     PARVIN    IRVINE    CA   \n",
       "190       1205899572      SARKAR    PURNIMA     EARLE    AR   \n",
       "215       1841603305        KING       SARA  WATERLOO    IA   \n",
       "...              ...         ...        ...       ...   ...   \n",
       "25208581  1598188617     CURTISS   LAWRENCE    MOLINE    IL   \n",
       "25208619  1962452391    MAGNUSON     THOMAS     OMAHA    NE   \n",
       "25208680  1801996764  MCLAUGHLIN       JULE   BOULDER    CO   \n",
       "25208800  1558377648    MALLOZZI     MARINO   EPHRATA    PA   \n",
       "25208880  1205072063       WIGHT   VIRGINIA     MACON    GA   \n",
       "\n",
       "                     specialty description_flag               drug_name  \\\n",
       "47           Internal Medicine                S     QUETIAPINE FUMARATE   \n",
       "103                 Psychiatry                S             HALOPERIDOL   \n",
       "105                 Psychiatry                S                 SAPHRIS   \n",
       "190          Internal Medicine                S             HALOPERIDOL   \n",
       "215         Nurse Practitioner                S            ARIPIPRAZOLE   \n",
       "...                        ...              ...                     ...   \n",
       "25208581    Nurse Practitioner                S             RISPERIDONE   \n",
       "25208619  Geriatric Psychiatry                S               CLOZAPINE   \n",
       "25208680   Physician Assistant                S              OLANZAPINE   \n",
       "25208800     Internal Medicine                S  QUETIAPINE FUMARATE ER   \n",
       "25208880            Psychiatry                S         INVEGA SUSTENNA   \n",
       "\n",
       "                            drug  bene_count  total_claim_count  \\\n",
       "47           QUETIAPINE FUMARATE         NaN                 13   \n",
       "103                  HALOPERIDOL         NaN                 19   \n",
       "105            ASENAPINE MALEATE         NaN                 11   \n",
       "190                  HALOPERIDOL         NaN                 23   \n",
       "215                 ARIPIPRAZOLE         NaN                 30   \n",
       "...                          ...         ...                ...   \n",
       "25208581             RISPERIDONE        42.0                337   \n",
       "25208619               CLOZAPINE         NaN                 25   \n",
       "25208680              OLANZAPINE        20.0                152   \n",
       "25208800     QUETIAPINE FUMARATE         NaN                 12   \n",
       "25208880  PALIPERIDONE PALMITATE        25.0                110   \n",
       "\n",
       "          total_30_day_fill_count  total_day_supply  total_drug_cost  \\\n",
       "47                           23.0               680           106.34   \n",
       "103                          19.0               570           414.11   \n",
       "105                          11.0               320          9079.50   \n",
       "190                          23.2               695          1390.46   \n",
       "215                          30.2               855          6001.11   \n",
       "...                           ...               ...              ...   \n",
       "25208581                    363.9             10324          3421.38   \n",
       "25208619                     25.0               648          3886.51   \n",
       "25208680                    182.0              5239          2998.17   \n",
       "25208800                     20.0               600          2781.07   \n",
       "25208880                    110.4              3004        184381.42   \n",
       "\n",
       "          bene_count_ge65 bene_count_ge65_suppress_flag  \\\n",
       "47                    NaN                             *   \n",
       "103                   NaN                             *   \n",
       "105                   NaN                             *   \n",
       "190                   NaN                             *   \n",
       "215                   NaN                             #   \n",
       "...                   ...                           ...   \n",
       "25208581              NaN                             *   \n",
       "25208619              NaN                             *   \n",
       "25208680              NaN                             *   \n",
       "25208800              NaN                             *   \n",
       "25208880              NaN                             *   \n",
       "\n",
       "          total_claim_count_ge65 ge65_suppress_flag  \\\n",
       "47                           NaN                  *   \n",
       "103                          NaN                  *   \n",
       "105                         11.0                NaN   \n",
       "190                         11.0                NaN   \n",
       "215                          NaN                  #   \n",
       "...                          ...                ...   \n",
       "25208581                    58.0                NaN   \n",
       "25208619                    25.0                NaN   \n",
       "25208680                    19.0                NaN   \n",
       "25208800                     NaN                  *   \n",
       "25208880                     NaN                  *   \n",
       "\n",
       "          total_30_day_fill_count_ge65  total_day_supply_ge65  \\\n",
       "47                                 NaN                    NaN   \n",
       "103                                NaN                    NaN   \n",
       "105                               11.0                  320.0   \n",
       "190                               11.0                  330.0   \n",
       "215                                NaN                    NaN   \n",
       "...                                ...                    ...   \n",
       "25208581                          62.0                 1834.0   \n",
       "25208619                          25.0                  648.0   \n",
       "25208680                          21.0                  630.0   \n",
       "25208800                           NaN                    NaN   \n",
       "25208880                           NaN                    NaN   \n",
       "\n",
       "          total_drug_cost_ge65  \n",
       "47                         NaN  \n",
       "103                        NaN  \n",
       "105                    9079.50  \n",
       "190                     258.83  \n",
       "215                        NaN  \n",
       "...                        ...  \n",
       "25208581                410.53  \n",
       "25208619               3886.51  \n",
       "25208680                255.61  \n",
       "25208800                   NaN  \n",
       "25208880                   NaN  \n",
       "\n",
       "[356420 rows x 21 columns]"
      ]
     },
     "execution_count": 13,
     "metadata": {},
     "output_type": "execute_result"
    }
   ],
   "source": [
    "prescriber_df[prescriber_df['bene_count_ge65'].isnull()]"
   ]
  },
  {
   "cell_type": "markdown",
   "metadata": {},
   "source": [
    "#### We can see ^ that there are 356,420 rows with NaN value for the bene_count_ge65...\n",
    "    This is because the data is suppressed for any beneficiary count below 11 in order to protect privacy.\n",
    "    I will fill these NaN values with 5 (a presumed average)."
   ]
  },
  {
   "cell_type": "code",
   "execution_count": 14,
   "metadata": {},
   "outputs": [],
   "source": [
    "prescriber_df['bene_count_ge65'] = prescriber_df['bene_count_ge65'].fillna(5)"
   ]
  },
  {
   "cell_type": "code",
   "execution_count": 15,
   "metadata": {
    "scrolled": true
   },
   "outputs": [
    {
     "data": {
      "text/plain": [
       "5.0      356420\n",
       "0.0      138976\n",
       "11.0       1955\n",
       "12.0       1596\n",
       "13.0       1274\n",
       "14.0       1065\n",
       "15.0        904\n",
       "16.0        698\n",
       "17.0        643\n",
       "18.0        558\n",
       "19.0        506\n",
       "20.0        432\n",
       "21.0        362\n",
       "22.0        309\n",
       "23.0        255\n",
       "24.0        243\n",
       "25.0        238\n",
       "26.0        203\n",
       "27.0        195\n",
       "29.0        159\n",
       "28.0        155\n",
       "31.0        139\n",
       "30.0        139\n",
       "33.0        122\n",
       "32.0        111\n",
       "34.0         99\n",
       "35.0         93\n",
       "36.0         81\n",
       "38.0         76\n",
       "37.0         74\n",
       "39.0         63\n",
       "41.0         59\n",
       "42.0         52\n",
       "44.0         51\n",
       "40.0         49\n",
       "43.0         36\n",
       "50.0         35\n",
       "48.0         34\n",
       "47.0         33\n",
       "55.0         32\n",
       "45.0         32\n",
       "51.0         31\n",
       "49.0         31\n",
       "46.0         29\n",
       "57.0         25\n",
       "53.0         23\n",
       "54.0         23\n",
       "56.0         21\n",
       "62.0         21\n",
       "59.0         20\n",
       "58.0         19\n",
       "67.0         17\n",
       "65.0         17\n",
       "61.0         16\n",
       "52.0         16\n",
       "66.0         15\n",
       "72.0         13\n",
       "63.0         13\n",
       "76.0         12\n",
       "68.0         12\n",
       "64.0         12\n",
       "73.0         11\n",
       "70.0         11\n",
       "71.0         10\n",
       "81.0         10\n",
       "86.0          9\n",
       "60.0          9\n",
       "75.0          9\n",
       "77.0          8\n",
       "88.0          8\n",
       "83.0          8\n",
       "69.0          8\n",
       "82.0          8\n",
       "94.0          7\n",
       "74.0          7\n",
       "92.0          6\n",
       "111.0         6\n",
       "91.0          6\n",
       "80.0          5\n",
       "79.0          5\n",
       "112.0         5\n",
       "97.0          5\n",
       "89.0          4\n",
       "78.0          4\n",
       "90.0          4\n",
       "104.0         4\n",
       "106.0         4\n",
       "87.0          4\n",
       "85.0          3\n",
       "131.0         3\n",
       "96.0          3\n",
       "110.0         3\n",
       "93.0          3\n",
       "119.0         3\n",
       "100.0         3\n",
       "98.0          3\n",
       "125.0         3\n",
       "121.0         3\n",
       "137.0         2\n",
       "107.0         2\n",
       "203.0         2\n",
       "139.0         2\n",
       "115.0         2\n",
       "158.0         2\n",
       "99.0          2\n",
       "102.0         2\n",
       "116.0         2\n",
       "95.0          2\n",
       "124.0         2\n",
       "108.0         2\n",
       "84.0          2\n",
       "126.0         2\n",
       "141.0         1\n",
       "281.0         1\n",
       "140.0         1\n",
       "226.0         1\n",
       "117.0         1\n",
       "143.0         1\n",
       "113.0         1\n",
       "537.0         1\n",
       "242.0         1\n",
       "200.0         1\n",
       "135.0         1\n",
       "114.0         1\n",
       "144.0         1\n",
       "130.0         1\n",
       "133.0         1\n",
       "146.0         1\n",
       "288.0         1\n",
       "166.0         1\n",
       "129.0         1\n",
       "145.0         1\n",
       "151.0         1\n",
       "147.0         1\n",
       "157.0         1\n",
       "127.0         1\n",
       "138.0         1\n",
       "136.0         1\n",
       "178.0         1\n",
       "248.0         1\n",
       "334.0         1\n",
       "333.0         1\n",
       "193.0         1\n",
       "163.0         1\n",
       "390.0         1\n",
       "161.0         1\n",
       "280.0         1\n",
       "105.0         1\n",
       "128.0         1\n",
       "101.0         1\n",
       "120.0         1\n",
       "340.0         1\n",
       "210.0         1\n",
       "148.0         1\n",
       "215.0         1\n",
       "433.0         1\n",
       "109.0         1\n",
       "303.0         1\n",
       "367.0         1\n",
       "162.0         1\n",
       "219.0         1\n",
       "509.0         1\n",
       "Name: bene_count_ge65, dtype: int64"
      ]
     },
     "execution_count": 15,
     "metadata": {},
     "output_type": "execute_result"
    }
   ],
   "source": [
    "prescriber_df.bene_count_ge65.value_counts()"
   ]
  },
  {
   "cell_type": "markdown",
   "metadata": {},
   "source": [
    "#### Now what are all these zeros?  hmmm"
   ]
  },
  {
   "cell_type": "markdown",
   "metadata": {},
   "source": [
    "new_df = old_df[((old_df['C1'] > 0)\n",
    "                & (old_df['C1'] < 20))] \n",
    "                \n"
   ]
  },
  {
   "cell_type": "code",
   "execution_count": 33,
   "metadata": {
    "scrolled": true
   },
   "outputs": [
    {
     "data": {
      "text/plain": [
       "26          False\n",
       "47           True\n",
       "103          True\n",
       "105         False\n",
       "190         False\n",
       "            ...  \n",
       "25208680    False\n",
       "25208800     True\n",
       "25208880     True\n",
       "25208944    False\n",
       "25209124    False\n",
       "Name: total_claim_count_ge65, Length: 509235, dtype: bool"
      ]
     },
     "execution_count": 33,
     "metadata": {},
     "output_type": "execute_result"
    }
   ],
   "source": [
    "#prescriber_df[(prescriber_df.bene_count_ge65 == 5) ].total_claim_count_ge65.value_counts()\n",
    "prescriber_df.total_claim_count_ge65.isnull()\n",
    "              ##& (prescriber_df.total_claim_count_ge65 > 0)]"
   ]
  },
  {
   "cell_type": "code",
   "execution_count": 88,
   "metadata": {},
   "outputs": [
    {
     "data": {
      "text/plain": [
       "(370259, 21)"
      ]
     },
     "execution_count": 88,
     "metadata": {},
     "output_type": "execute_result"
    }
   ],
   "source": [
    "prescriber_df = prescriber_df[prescriber_df.bene_count_ge65 != 0]\n",
    "prescriber_df.shape"
   ]
  },
  {
   "cell_type": "markdown",
   "metadata": {},
   "source": [
    "### Below is some more eda that has not materially impacted my presentation yet. \n",
    "    eventually, I would like to use the physician compare data to link antipsychotic use with specific hospitals"
   ]
  },
  {
   "cell_type": "code",
   "execution_count": 89,
   "metadata": {},
   "outputs": [
    {
     "data": {
      "text/html": [
       "<div>\n",
       "<style scoped>\n",
       "    .dataframe tbody tr th:only-of-type {\n",
       "        vertical-align: middle;\n",
       "    }\n",
       "\n",
       "    .dataframe tbody tr th {\n",
       "        vertical-align: top;\n",
       "    }\n",
       "\n",
       "    .dataframe thead th {\n",
       "        text-align: right;\n",
       "    }\n",
       "</style>\n",
       "<table border=\"1\" class=\"dataframe\">\n",
       "  <thead>\n",
       "    <tr style=\"text-align: right;\">\n",
       "      <th></th>\n",
       "      <th>npi</th>\n",
       "      <th>last_name</th>\n",
       "      <th>first_name</th>\n",
       "      <th>city</th>\n",
       "      <th>state</th>\n",
       "      <th>specialty</th>\n",
       "      <th>description_flag</th>\n",
       "      <th>drug_name</th>\n",
       "      <th>drug</th>\n",
       "      <th>bene_count</th>\n",
       "      <th>total_claim_count</th>\n",
       "      <th>total_30_day_fill_count</th>\n",
       "      <th>total_day_supply</th>\n",
       "      <th>total_drug_cost</th>\n",
       "      <th>bene_count_ge65</th>\n",
       "      <th>bene_count_ge65_suppress_flag</th>\n",
       "      <th>total_claim_count_ge65</th>\n",
       "      <th>ge65_suppress_flag</th>\n",
       "      <th>total_30_day_fill_count_ge65</th>\n",
       "      <th>total_day_supply_ge65</th>\n",
       "      <th>total_drug_cost_ge65</th>\n",
       "    </tr>\n",
       "  </thead>\n",
       "  <tbody>\n",
       "  </tbody>\n",
       "</table>\n",
       "</div>"
      ],
      "text/plain": [
       "Empty DataFrame\n",
       "Columns: [npi, last_name, first_name, city, state, specialty, description_flag, drug_name, drug, bene_count, total_claim_count, total_30_day_fill_count, total_day_supply, total_drug_cost, bene_count_ge65, bene_count_ge65_suppress_flag, total_claim_count_ge65, ge65_suppress_flag, total_30_day_fill_count_ge65, total_day_supply_ge65, total_drug_cost_ge65]\n",
       "Index: []"
      ]
     },
     "execution_count": 89,
     "metadata": {},
     "output_type": "execute_result"
    }
   ],
   "source": [
    "## confirming that bene_count_ge65 is included in bene_countS\n",
    "prescriber_df[prescriber_df.bene_count < prescriber_df.bene_count_ge65]"
   ]
  },
  {
   "cell_type": "code",
   "execution_count": 90,
   "metadata": {},
   "outputs": [
    {
     "data": {
      "text/html": [
       "<div>\n",
       "<style scoped>\n",
       "    .dataframe tbody tr th:only-of-type {\n",
       "        vertical-align: middle;\n",
       "    }\n",
       "\n",
       "    .dataframe tbody tr th {\n",
       "        vertical-align: top;\n",
       "    }\n",
       "\n",
       "    .dataframe thead th {\n",
       "        text-align: right;\n",
       "    }\n",
       "</style>\n",
       "<table border=\"1\" class=\"dataframe\">\n",
       "  <thead>\n",
       "    <tr style=\"text-align: right;\">\n",
       "      <th></th>\n",
       "      <th>npi</th>\n",
       "      <th>last_name</th>\n",
       "      <th>first_name</th>\n",
       "      <th>city</th>\n",
       "      <th>state</th>\n",
       "      <th>specialty</th>\n",
       "      <th>description_flag</th>\n",
       "      <th>drug_name</th>\n",
       "      <th>drug</th>\n",
       "      <th>bene_count</th>\n",
       "      <th>total_claim_count</th>\n",
       "      <th>total_30_day_fill_count</th>\n",
       "      <th>total_day_supply</th>\n",
       "      <th>total_drug_cost</th>\n",
       "      <th>bene_count_ge65</th>\n",
       "      <th>bene_count_ge65_suppress_flag</th>\n",
       "      <th>total_claim_count_ge65</th>\n",
       "      <th>ge65_suppress_flag</th>\n",
       "      <th>total_30_day_fill_count_ge65</th>\n",
       "      <th>total_day_supply_ge65</th>\n",
       "      <th>total_drug_cost_ge65</th>\n",
       "    </tr>\n",
       "  </thead>\n",
       "  <tbody>\n",
       "  </tbody>\n",
       "</table>\n",
       "</div>"
      ],
      "text/plain": [
       "Empty DataFrame\n",
       "Columns: [npi, last_name, first_name, city, state, specialty, description_flag, drug_name, drug, bene_count, total_claim_count, total_30_day_fill_count, total_day_supply, total_drug_cost, bene_count_ge65, bene_count_ge65_suppress_flag, total_claim_count_ge65, ge65_suppress_flag, total_30_day_fill_count_ge65, total_day_supply_ge65, total_drug_cost_ge65]\n",
       "Index: []"
      ]
     },
     "execution_count": 90,
     "metadata": {},
     "output_type": "execute_result"
    }
   ],
   "source": [
    "## there are 138,976 rows with '0'for bene_count_ge65\n",
    "## confirming that these are for rows that have data for beneficiaries younger than 65\n",
    "prescriber_df[prescriber_df.bene_count_ge65 == 0].head()"
   ]
  },
  {
   "cell_type": "code",
   "execution_count": 91,
   "metadata": {},
   "outputs": [],
   "source": [
    "total_benef = prescriber_df.groupby(['state'])['bene_count_ge65'].sum().to_frame().sort_values(by= ['bene_count_ge65'],ascending=False)"
   ]
  },
  {
   "cell_type": "code",
   "execution_count": 92,
   "metadata": {},
   "outputs": [],
   "source": [
    "ak_df = prescriber_df.loc[prescriber_df['state']=='AK']"
   ]
  },
  {
   "cell_type": "code",
   "execution_count": 93,
   "metadata": {},
   "outputs": [
    {
     "data": {
      "text/plain": [
       "2642.0"
      ]
     },
     "execution_count": 93,
     "metadata": {},
     "output_type": "execute_result"
    }
   ],
   "source": [
    "ak_df.bene_count_ge65.sum()"
   ]
  },
  {
   "cell_type": "code",
   "execution_count": 94,
   "metadata": {},
   "outputs": [
    {
     "data": {
      "text/plain": [
       "526"
      ]
     },
     "execution_count": 94,
     "metadata": {},
     "output_type": "execute_result"
    }
   ],
   "source": [
    "ak_df.npi.count()"
   ]
  },
  {
   "cell_type": "code",
   "execution_count": null,
   "metadata": {},
   "outputs": [],
   "source": []
  },
  {
   "cell_type": "markdown",
   "metadata": {},
   "source": [
    "#### Bring in physician data and merge"
   ]
  },
  {
   "cell_type": "code",
   "execution_count": 95,
   "metadata": {},
   "outputs": [
    {
     "name": "stderr",
     "output_type": "stream",
     "text": [
      "C:\\Users\\ben\\anaconda3\\lib\\site-packages\\IPython\\core\\interactiveshell.py:3063: DtypeWarning: Columns (15,25,29,31,33) have mixed types.Specify dtype option on import or set low_memory=False.\n",
      "  interactivity=interactivity, compiler=compiler, result=result)\n"
     ]
    }
   ],
   "source": [
    "physician_df = pd.read_csv('../data/archive/Physician_Compare_National_Downloadable_File.csv')\n",
    "physician_df = physician_df.rename(columns={'NPI': 'npi2','Hospital affiliation CCN 1':'ccn1','Hospital affiliation LBN 1':'lbn1',\n",
    "                                            'Hospital affiliation CCN 2':'ccn2','Hospital affiliation LBN 2':'lbn2',\n",
    "                                            'Hospital affiliation CCN 3':'ccn3','Hospital affiliation LBN 3':'lbn3',\n",
    "                                            'Hospital affiliation CCN 4':'ccn4','Hospital affiliation LBN 4':'lbn4',\n",
    "                                            'Hospital affiliation CCN 5':'ccn5','Hospital affiliation LBN 5':'lbn5'})"
   ]
  },
  {
   "cell_type": "code",
   "execution_count": 96,
   "metadata": {},
   "outputs": [
    {
     "data": {
      "text/plain": [
       "(2183992, 38)"
      ]
     },
     "execution_count": 96,
     "metadata": {},
     "output_type": "execute_result"
    }
   ],
   "source": [
    "physician_df.shape"
   ]
  },
  {
   "cell_type": "code",
   "execution_count": 97,
   "metadata": {},
   "outputs": [
    {
     "data": {
      "text/plain": [
       "(1138209, 38)"
      ]
     },
     "execution_count": 97,
     "metadata": {},
     "output_type": "execute_result"
    }
   ],
   "source": [
    "physician_df = physician_df.drop_duplicates(subset='npi2')\n",
    "physician_df.shape"
   ]
  },
  {
   "cell_type": "code",
   "execution_count": 98,
   "metadata": {},
   "outputs": [
    {
     "data": {
      "text/plain": [
       "1138209"
      ]
     },
     "execution_count": 98,
     "metadata": {},
     "output_type": "execute_result"
    }
   ],
   "source": [
    "physician_df.npi2.notnull().sum()"
   ]
  },
  {
   "cell_type": "code",
   "execution_count": 99,
   "metadata": {},
   "outputs": [
    {
     "data": {
      "text/plain": [
       "1138209"
      ]
     },
     "execution_count": 99,
     "metadata": {},
     "output_type": "execute_result"
    }
   ],
   "source": [
    "physician_df.npi2.nunique()"
   ]
  },
  {
   "cell_type": "code",
   "execution_count": 100,
   "metadata": {
    "scrolled": true
   },
   "outputs": [
    {
     "ename": "SyntaxError",
     "evalue": "invalid syntax (<ipython-input-100-b2773cd13e12>, line 1)",
     "output_type": "error",
     "traceback": [
      "\u001b[1;36m  File \u001b[1;32m\"<ipython-input-100-b2773cd13e12>\"\u001b[1;36m, line \u001b[1;32m1\u001b[0m\n\u001b[1;33m    prescriber_and_physician_df = pd.merge(prescriber_df,physician_df,how= left_on='npi',right_on='npi2')\u001b[0m\n\u001b[1;37m                                                                                  ^\u001b[0m\n\u001b[1;31mSyntaxError\u001b[0m\u001b[1;31m:\u001b[0m invalid syntax\n"
     ]
    }
   ],
   "source": [
    "prescriber_and_physician_df = pd.merge(prescriber_df,physician_df,how= left_on='npi',right_on='npi2')\n",
    "prescriber_and_physician_df.head(1)"
   ]
  },
  {
   "cell_type": "code",
   "execution_count": null,
   "metadata": {},
   "outputs": [],
   "source": [
    "prescriber_and_physician_df.shape"
   ]
  },
  {
   "cell_type": "code",
   "execution_count": null,
   "metadata": {},
   "outputs": [],
   "source": [
    "prescriber_and_physician_df = prescriber_and_physician_df.drop_duplicates()"
   ]
  },
  {
   "cell_type": "code",
   "execution_count": null,
   "metadata": {},
   "outputs": [],
   "source": [
    "prescriber_and_physician_df.shape"
   ]
  },
  {
   "cell_type": "code",
   "execution_count": null,
   "metadata": {},
   "outputs": [],
   "source": [
    "prescriber_and_physician_df.head(2)"
   ]
  },
  {
   "cell_type": "code",
   "execution_count": null,
   "metadata": {},
   "outputs": [],
   "source": [
    "prescriber_and_physician_df.shape"
   ]
  },
  {
   "cell_type": "code",
   "execution_count": null,
   "metadata": {},
   "outputs": [],
   "source": [
    "prescriber_and_physician_df.to_csv('../data/1.csv', index = False)"
   ]
  },
  {
   "cell_type": "code",
   "execution_count": null,
   "metadata": {},
   "outputs": [],
   "source": []
  }
 ],
 "metadata": {
  "kernelspec": {
   "display_name": "Python 3",
   "language": "python",
   "name": "python3"
  },
  "language_info": {
   "codemirror_mode": {
    "name": "ipython",
    "version": 3
   },
   "file_extension": ".py",
   "mimetype": "text/x-python",
   "name": "python",
   "nbconvert_exporter": "python",
   "pygments_lexer": "ipython3",
   "version": "3.7.6"
  }
 },
 "nbformat": 4,
 "nbformat_minor": 4
}
