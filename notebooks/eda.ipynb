{
 "cells": [
  {
   "cell_type": "code",
   "execution_count": 1,
   "metadata": {},
   "outputs": [],
   "source": [
    "import pandas as pd\n",
    "import numpy as np\n",
    "from matplotlib import pyplot as plt"
   ]
  },
  {
   "cell_type": "code",
   "execution_count": 14,
   "metadata": {},
   "outputs": [],
   "source": [
    "pd.set_option('display.max_columns', 500)\n",
    "pd.set_option('display.max_rows', 500)"
   ]
  },
  {
   "cell_type": "markdown",
   "metadata": {},
   "source": [
    "Prescriber Data  \n",
    "https://data.cms.gov/Medicare-Part-D/Medicare-Provider-Utilization-and-Payment-Data-201/77gb-8z53  \n",
    "Physician Compare data  \n",
    "https://data.medicare.gov/Physician-Compare/Physician-Compare-National-Downloadable-File/mj5m-pzi6"
   ]
  },
  {
   "cell_type": "markdown",
   "metadata": {},
   "source": [
    "\n",
    "#### read in all columns, rename some columns "
   ]
  },
  {
   "cell_type": "code",
   "execution_count": 3,
   "metadata": {
    "scrolled": true
   },
   "outputs": [
    {
     "name": "stdout",
     "output_type": "stream",
     "text": [
      "Wall time: 2min 57s\n"
     ]
    }
   ],
   "source": [
    "%%time\n",
    "prescriber_df = pd.read_csv('../data/archive/Medicare_Provider_Utilization_and_Payment_Data__2017_Part_D_Prescriber.csv')\n",
    "prescriber_df = prescriber_df.rename(columns={'nppes_provider_last_org_name':'last_name','nppes_provider_first_name':'first_name',\n",
    "                                              'nppes_provider_city':'city','nppes_provider_state': 'state',\n",
    "                                              'specialty_description':'specialty','generic_name':'drug',})"
   ]
  },
  {
   "cell_type": "markdown",
   "metadata": {},
   "source": [
    "#### create list of antipsych drugs"
   ]
  },
  {
   "cell_type": "code",
   "execution_count": 4,
   "metadata": {},
   "outputs": [],
   "source": [
    "list_of_all_antipsychs = ['ARIPIPRAZOLE',\n",
    "'ARIPIPRAZOLE LAUROXIL',\n",
    "'CHLORPROMAZINE HCL',\n",
    "'CLOZAPINE',\n",
    "'ILOPERIDONE',\n",
    "'FLUPHENAZINE DECANOATE',\n",
    "'FLUPHENAZINE HCL',\n",
    "'ZIPRASIDONE HCL',\n",
    "'ZIPRASIDONE MESYLATE',\n",
    "'HALOPERIDOL LACTATE',\n",
    "'HALOPERIDOL DECANOATE',\n",
    "'HALOPERIDOL',\n",
    "'PALIPERIDONE',\n",
    "'PALIPERIDONE PALMITATE',\n",
    "'LURASIDONE HCL',\n",
    "'LOXAPINE SUCCINATE',\n",
    "'MOLINDONE HCL',\n",
    "'PIMAVANSERIN TARTRATE',\n",
    "'OLANZAPINE',\n",
    "'OLANZAPINE/FLUOXETINE HCL',\n",
    "'PIMOZIDE',\n",
    "'PERPHENAZINE',\n",
    "'PERPHENAZINE/AMITRIPTYLINE HCL',\n",
    "'QUETIAPINE FUMARATE',\n",
    "'BREXPIPRAZOLE',\n",
    "'RISPERIDONE',\n",
    "'RISPERIDONE MICROSPHERES',\n",
    "'ASENAPINE MALEATE',\n",
    "'THIORIDAZINE HCL',\n",
    "'THIOTHIXENE',\n",
    "'TRIFLUOPERAZINE HCL',\n",
    "'CARIPRAZINE HCL',\n",
    "'OLANZAPINE PAMOATE']"
   ]
  },
  {
   "cell_type": "code",
   "execution_count": 5,
   "metadata": {},
   "outputs": [
    {
     "data": {
      "text/plain": [
       "(25209130, 21)"
      ]
     },
     "execution_count": 5,
     "metadata": {},
     "output_type": "execute_result"
    }
   ],
   "source": [
    "prescriber_df.shape"
   ]
  },
  {
   "cell_type": "markdown",
   "metadata": {},
   "source": [
    "#### Run query on dataframe for list of drugs (credit: Mary's Queries)"
   ]
  },
  {
   "cell_type": "code",
   "execution_count": 6,
   "metadata": {},
   "outputs": [],
   "source": [
    "prescriber_df = prescriber_df.query('drug in @list_of_all_antipsychs')"
   ]
  },
  {
   "cell_type": "code",
   "execution_count": 18,
   "metadata": {},
   "outputs": [
    {
     "data": {
      "text/plain": [
       "(509235, 21)"
      ]
     },
     "execution_count": 18,
     "metadata": {},
     "output_type": "execute_result"
    }
   ],
   "source": [
    "prescriber_df.shape"
   ]
  },
  {
   "cell_type": "markdown",
   "metadata": {},
   "source": [
    "#### Some EDA:\n",
    "    are there duplicates? there shouldn't be\n",
    "    notnulls\n",
    "    how many unique values for each column?\n",
    "    "
   ]
  },
  {
   "cell_type": "code",
   "execution_count": 8,
   "metadata": {},
   "outputs": [
    {
     "data": {
      "text/plain": [
       "(509235, 21)"
      ]
     },
     "execution_count": 8,
     "metadata": {},
     "output_type": "execute_result"
    }
   ],
   "source": [
    "prescriber_df_drop_dup = prescriber_df.drop_duplicates()\n",
    "prescriber_df_drop_dup.shape"
   ]
  },
  {
   "cell_type": "code",
   "execution_count": null,
   "metadata": {},
   "outputs": [],
   "source": [
    "prescriber_df.total_claim_count_ge65.sum()"
   ]
  },
  {
   "cell_type": "code",
   "execution_count": null,
   "metadata": {},
   "outputs": [],
   "source": [
    "prescriber_df.bene_count_ge65.sum()"
   ]
  },
  {
   "cell_type": "code",
   "execution_count": null,
   "metadata": {},
   "outputs": [],
   "source": [
    "prescriber_df.notnull().sum()"
   ]
  },
  {
   "cell_type": "code",
   "execution_count": null,
   "metadata": {
    "scrolled": false
   },
   "outputs": [],
   "source": [
    "prescriber_df.nunique()"
   ]
  },
  {
   "cell_type": "code",
   "execution_count": 20,
   "metadata": {
    "scrolled": true
   },
   "outputs": [
    {
     "data": {
      "text/html": [
       "<div>\n",
       "<style scoped>\n",
       "    .dataframe tbody tr th:only-of-type {\n",
       "        vertical-align: middle;\n",
       "    }\n",
       "\n",
       "    .dataframe tbody tr th {\n",
       "        vertical-align: top;\n",
       "    }\n",
       "\n",
       "    .dataframe thead th {\n",
       "        text-align: right;\n",
       "    }\n",
       "</style>\n",
       "<table border=\"1\" class=\"dataframe\">\n",
       "  <thead>\n",
       "    <tr style=\"text-align: right;\">\n",
       "      <th></th>\n",
       "      <th>npi</th>\n",
       "      <th>last_name</th>\n",
       "      <th>first_name</th>\n",
       "      <th>city</th>\n",
       "      <th>state</th>\n",
       "      <th>specialty</th>\n",
       "      <th>description_flag</th>\n",
       "      <th>drug_name</th>\n",
       "      <th>drug</th>\n",
       "      <th>bene_count</th>\n",
       "      <th>total_claim_count</th>\n",
       "      <th>total_30_day_fill_count</th>\n",
       "      <th>total_day_supply</th>\n",
       "      <th>total_drug_cost</th>\n",
       "      <th>bene_count_ge65</th>\n",
       "      <th>bene_count_ge65_suppress_flag</th>\n",
       "      <th>total_claim_count_ge65</th>\n",
       "      <th>ge65_suppress_flag</th>\n",
       "      <th>total_30_day_fill_count_ge65</th>\n",
       "      <th>total_day_supply_ge65</th>\n",
       "      <th>total_drug_cost_ge65</th>\n",
       "    </tr>\n",
       "  </thead>\n",
       "  <tbody>\n",
       "  </tbody>\n",
       "</table>\n",
       "</div>"
      ],
      "text/plain": [
       "Empty DataFrame\n",
       "Columns: [npi, last_name, first_name, city, state, specialty, description_flag, drug_name, drug, bene_count, total_claim_count, total_30_day_fill_count, total_day_supply, total_drug_cost, bene_count_ge65, bene_count_ge65_suppress_flag, total_claim_count_ge65, ge65_suppress_flag, total_30_day_fill_count_ge65, total_day_supply_ge65, total_drug_cost_ge65]\n",
       "Index: []"
      ]
     },
     "execution_count": 20,
     "metadata": {},
     "output_type": "execute_result"
    }
   ],
   "source": [
    "prescriber_df[prescriber_df['bene_count_ge65'].isnull()]"
   ]
  },
  {
   "cell_type": "markdown",
   "metadata": {},
   "source": [
    "#### We can see ^ that there are 356,420 rows with NaN value for the bene_count_ge65...\n",
    "    This is because the data is suppressed for any beneficiary count below 11.\n",
    "    I will fill these NaN values with 5 (a presumed average)."
   ]
  },
  {
   "cell_type": "code",
   "execution_count": 9,
   "metadata": {},
   "outputs": [],
   "source": [
    "prescriber_df['bene_count_ge65'] = prescriber_df['bene_count_ge65'].fillna(5)"
   ]
  },
  {
   "cell_type": "code",
   "execution_count": 11,
   "metadata": {},
   "outputs": [
    {
     "data": {
      "text/plain": [
       "5.0      356420\n",
       "0.0      138976\n",
       "11.0       1955\n",
       "12.0       1596\n",
       "13.0       1274\n",
       "          ...  \n",
       "303.0         1\n",
       "367.0         1\n",
       "162.0         1\n",
       "219.0         1\n",
       "509.0         1\n",
       "Name: bene_count_ge65, Length: 162, dtype: int64"
      ]
     },
     "execution_count": 11,
     "metadata": {},
     "output_type": "execute_result"
    }
   ],
   "source": [
    "prescriber_df.bene_count_ge65.value_counts()"
   ]
  },
  {
   "cell_type": "markdown",
   "metadata": {},
   "source": [
    "#### Now what are all these zeros?  hmmm"
   ]
  },
  {
   "cell_type": "code",
   "execution_count": 26,
   "metadata": {},
   "outputs": [
    {
     "data": {
      "text/html": [
       "<div>\n",
       "<style scoped>\n",
       "    .dataframe tbody tr th:only-of-type {\n",
       "        vertical-align: middle;\n",
       "    }\n",
       "\n",
       "    .dataframe tbody tr th {\n",
       "        vertical-align: top;\n",
       "    }\n",
       "\n",
       "    .dataframe thead th {\n",
       "        text-align: right;\n",
       "    }\n",
       "</style>\n",
       "<table border=\"1\" class=\"dataframe\">\n",
       "  <thead>\n",
       "    <tr style=\"text-align: right;\">\n",
       "      <th></th>\n",
       "      <th>npi</th>\n",
       "      <th>last_name</th>\n",
       "      <th>first_name</th>\n",
       "      <th>city</th>\n",
       "      <th>state</th>\n",
       "      <th>specialty</th>\n",
       "      <th>description_flag</th>\n",
       "      <th>drug_name</th>\n",
       "      <th>drug</th>\n",
       "      <th>bene_count</th>\n",
       "      <th>total_claim_count</th>\n",
       "      <th>total_30_day_fill_count</th>\n",
       "      <th>total_day_supply</th>\n",
       "      <th>total_drug_cost</th>\n",
       "      <th>bene_count_ge65</th>\n",
       "      <th>bene_count_ge65_suppress_flag</th>\n",
       "      <th>total_claim_count_ge65</th>\n",
       "      <th>ge65_suppress_flag</th>\n",
       "      <th>total_30_day_fill_count_ge65</th>\n",
       "      <th>total_day_supply_ge65</th>\n",
       "      <th>total_drug_cost_ge65</th>\n",
       "    </tr>\n",
       "  </thead>\n",
       "  <tbody>\n",
       "    <tr>\n",
       "      <th>26</th>\n",
       "      <td>1659682904</td>\n",
       "      <td>JESUBATHAM</td>\n",
       "      <td>JULIAN</td>\n",
       "      <td>CLARKSDALE</td>\n",
       "      <td>MS</td>\n",
       "      <td>Internal Medicine</td>\n",
       "      <td>S</td>\n",
       "      <td>ZIPRASIDONE HCL</td>\n",
       "      <td>ZIPRASIDONE HCL</td>\n",
       "      <td>NaN</td>\n",
       "      <td>11</td>\n",
       "      <td>11.0</td>\n",
       "      <td>330</td>\n",
       "      <td>554.09</td>\n",
       "      <td>0.0</td>\n",
       "      <td>NaN</td>\n",
       "      <td>0.0</td>\n",
       "      <td>NaN</td>\n",
       "      <td>0.0</td>\n",
       "      <td>0.0</td>\n",
       "      <td>0.0</td>\n",
       "    </tr>\n",
       "    <tr>\n",
       "      <th>471</th>\n",
       "      <td>1942466735</td>\n",
       "      <td>PIERRE-LYNCH</td>\n",
       "      <td>NATACHA</td>\n",
       "      <td>HAMMONTON</td>\n",
       "      <td>NJ</td>\n",
       "      <td>Nurse Practitioner</td>\n",
       "      <td>S</td>\n",
       "      <td>QUETIAPINE FUMARATE</td>\n",
       "      <td>QUETIAPINE FUMARATE</td>\n",
       "      <td>11.0</td>\n",
       "      <td>30</td>\n",
       "      <td>30.0</td>\n",
       "      <td>900</td>\n",
       "      <td>817.21</td>\n",
       "      <td>0.0</td>\n",
       "      <td>NaN</td>\n",
       "      <td>0.0</td>\n",
       "      <td>NaN</td>\n",
       "      <td>0.0</td>\n",
       "      <td>0.0</td>\n",
       "      <td>0.0</td>\n",
       "    </tr>\n",
       "    <tr>\n",
       "      <th>760</th>\n",
       "      <td>1447337258</td>\n",
       "      <td>CHIANESE</td>\n",
       "      <td>CLAIRE</td>\n",
       "      <td>GEORGETOWN</td>\n",
       "      <td>DE</td>\n",
       "      <td>Nurse Practitioner</td>\n",
       "      <td>S</td>\n",
       "      <td>RISPERIDONE ODT</td>\n",
       "      <td>RISPERIDONE</td>\n",
       "      <td>NaN</td>\n",
       "      <td>13</td>\n",
       "      <td>13.0</td>\n",
       "      <td>388</td>\n",
       "      <td>1600.61</td>\n",
       "      <td>0.0</td>\n",
       "      <td>NaN</td>\n",
       "      <td>0.0</td>\n",
       "      <td>NaN</td>\n",
       "      <td>0.0</td>\n",
       "      <td>0.0</td>\n",
       "      <td>0.0</td>\n",
       "    </tr>\n",
       "    <tr>\n",
       "      <th>774</th>\n",
       "      <td>1215978770</td>\n",
       "      <td>WRIGHT</td>\n",
       "      <td>KENNETH</td>\n",
       "      <td>BENTON</td>\n",
       "      <td>AR</td>\n",
       "      <td>Psychiatry</td>\n",
       "      <td>S</td>\n",
       "      <td>PALIPERIDONE ER</td>\n",
       "      <td>PALIPERIDONE</td>\n",
       "      <td>15.0</td>\n",
       "      <td>71</td>\n",
       "      <td>71.9</td>\n",
       "      <td>1798</td>\n",
       "      <td>52158.90</td>\n",
       "      <td>0.0</td>\n",
       "      <td>NaN</td>\n",
       "      <td>0.0</td>\n",
       "      <td>NaN</td>\n",
       "      <td>0.0</td>\n",
       "      <td>0.0</td>\n",
       "      <td>0.0</td>\n",
       "    </tr>\n",
       "    <tr>\n",
       "      <th>780</th>\n",
       "      <td>1811985708</td>\n",
       "      <td>HERNANDO</td>\n",
       "      <td>ROBERTO</td>\n",
       "      <td>MIAMI</td>\n",
       "      <td>FL</td>\n",
       "      <td>Psychiatry</td>\n",
       "      <td>S</td>\n",
       "      <td>LATUDA</td>\n",
       "      <td>LURASIDONE HCL</td>\n",
       "      <td>NaN</td>\n",
       "      <td>23</td>\n",
       "      <td>24.0</td>\n",
       "      <td>720</td>\n",
       "      <td>42603.21</td>\n",
       "      <td>0.0</td>\n",
       "      <td>NaN</td>\n",
       "      <td>0.0</td>\n",
       "      <td>NaN</td>\n",
       "      <td>0.0</td>\n",
       "      <td>0.0</td>\n",
       "      <td>0.0</td>\n",
       "    </tr>\n",
       "  </tbody>\n",
       "</table>\n",
       "</div>"
      ],
      "text/plain": [
       "            npi     last_name first_name        city state  \\\n",
       "26   1659682904    JESUBATHAM     JULIAN  CLARKSDALE    MS   \n",
       "471  1942466735  PIERRE-LYNCH    NATACHA   HAMMONTON    NJ   \n",
       "760  1447337258      CHIANESE     CLAIRE  GEORGETOWN    DE   \n",
       "774  1215978770        WRIGHT    KENNETH      BENTON    AR   \n",
       "780  1811985708      HERNANDO    ROBERTO       MIAMI    FL   \n",
       "\n",
       "              specialty description_flag            drug_name  \\\n",
       "26    Internal Medicine                S      ZIPRASIDONE HCL   \n",
       "471  Nurse Practitioner                S  QUETIAPINE FUMARATE   \n",
       "760  Nurse Practitioner                S      RISPERIDONE ODT   \n",
       "774          Psychiatry                S      PALIPERIDONE ER   \n",
       "780          Psychiatry                S               LATUDA   \n",
       "\n",
       "                    drug  bene_count  total_claim_count  \\\n",
       "26       ZIPRASIDONE HCL         NaN                 11   \n",
       "471  QUETIAPINE FUMARATE        11.0                 30   \n",
       "760          RISPERIDONE         NaN                 13   \n",
       "774         PALIPERIDONE        15.0                 71   \n",
       "780       LURASIDONE HCL         NaN                 23   \n",
       "\n",
       "     total_30_day_fill_count  total_day_supply  total_drug_cost  \\\n",
       "26                      11.0               330           554.09   \n",
       "471                     30.0               900           817.21   \n",
       "760                     13.0               388          1600.61   \n",
       "774                     71.9              1798         52158.90   \n",
       "780                     24.0               720         42603.21   \n",
       "\n",
       "     bene_count_ge65 bene_count_ge65_suppress_flag  total_claim_count_ge65  \\\n",
       "26               0.0                           NaN                     0.0   \n",
       "471              0.0                           NaN                     0.0   \n",
       "760              0.0                           NaN                     0.0   \n",
       "774              0.0                           NaN                     0.0   \n",
       "780              0.0                           NaN                     0.0   \n",
       "\n",
       "    ge65_suppress_flag  total_30_day_fill_count_ge65  total_day_supply_ge65  \\\n",
       "26                 NaN                           0.0                    0.0   \n",
       "471                NaN                           0.0                    0.0   \n",
       "760                NaN                           0.0                    0.0   \n",
       "774                NaN                           0.0                    0.0   \n",
       "780                NaN                           0.0                    0.0   \n",
       "\n",
       "     total_drug_cost_ge65  \n",
       "26                    0.0  \n",
       "471                   0.0  \n",
       "760                   0.0  \n",
       "774                   0.0  \n",
       "780                   0.0  "
      ]
     },
     "execution_count": 26,
     "metadata": {},
     "output_type": "execute_result"
    }
   ],
   "source": []
  },
  {
   "cell_type": "markdown",
   "metadata": {},
   "source": [
    "### Below is some more eda that has not materially impacted my presentation yet. \n",
    "    eventually, I would like to use the physician compare data to link antipsychotic use with specific hospitals"
   ]
  },
  {
   "cell_type": "code",
   "execution_count": null,
   "metadata": {},
   "outputs": [],
   "source": [
    "## confirming that bene_count_ge65 is included in bene_countS\n",
    "prescriber_df[prescriber_df.bene_count < prescriber_df.bene_count_ge65]"
   ]
  },
  {
   "cell_type": "code",
   "execution_count": null,
   "metadata": {},
   "outputs": [],
   "source": [
    "## there are 138,976 rows with '0'for bene_count_ge65\n",
    "## confirming that these are for rows that have data for beneficiaries younger than 65\n",
    "prescriber_df[prescriber_df.bene_count_ge65 == 0].head()"
   ]
  },
  {
   "cell_type": "code",
   "execution_count": null,
   "metadata": {},
   "outputs": [],
   "source": [
    "total_benef = prescriber_df.groupby(['state'])['bene_count_ge65'].sum().to_frame().sort_values(by= ['bene_count_ge65'],ascending=False)"
   ]
  },
  {
   "cell_type": "code",
   "execution_count": null,
   "metadata": {},
   "outputs": [],
   "source": [
    "ak_df = prescriber_df.loc[prescriber_df['state']=='AK']"
   ]
  },
  {
   "cell_type": "code",
   "execution_count": null,
   "metadata": {},
   "outputs": [],
   "source": [
    "ak_df.bene_count_ge65.sum()"
   ]
  },
  {
   "cell_type": "code",
   "execution_count": null,
   "metadata": {},
   "outputs": [],
   "source": [
    "ak_df.npi.count()"
   ]
  },
  {
   "cell_type": "code",
   "execution_count": null,
   "metadata": {},
   "outputs": [],
   "source": []
  },
  {
   "cell_type": "markdown",
   "metadata": {},
   "source": [
    "#### Bring in physician data and merge"
   ]
  },
  {
   "cell_type": "code",
   "execution_count": null,
   "metadata": {},
   "outputs": [],
   "source": [
    "physician_df = pd.read_csv('../data/archive/Physician_Compare_National_Downloadable_File.csv')\n",
    "physician_df = physician_df.rename(columns={'NPI': 'npi2','Hospital affiliation CCN 1':'ccn1','Hospital affiliation LBN 1':'lbn1',\n",
    "                                            'Hospital affiliation CCN 2':'ccn2','Hospital affiliation LBN 2':'lbn2',\n",
    "                                            'Hospital affiliation CCN 3':'ccn3','Hospital affiliation LBN 3':'lbn3',\n",
    "                                            'Hospital affiliation CCN 4':'ccn4','Hospital affiliation LBN 4':'lbn4',\n",
    "                                            'Hospital affiliation CCN 5':'ccn5','Hospital affiliation LBN 5':'lbn5'})"
   ]
  },
  {
   "cell_type": "code",
   "execution_count": null,
   "metadata": {},
   "outputs": [],
   "source": [
    "physician_df.shape"
   ]
  },
  {
   "cell_type": "code",
   "execution_count": null,
   "metadata": {},
   "outputs": [],
   "source": [
    "physician_df = physician_df.drop_duplicates(subset='npi2')\n",
    "physician_df.shape"
   ]
  },
  {
   "cell_type": "code",
   "execution_count": null,
   "metadata": {},
   "outputs": [],
   "source": [
    "physician_df.npi2.notnull().sum()"
   ]
  },
  {
   "cell_type": "code",
   "execution_count": null,
   "metadata": {},
   "outputs": [],
   "source": [
    "physician_df.npi2.nunique()"
   ]
  },
  {
   "cell_type": "code",
   "execution_count": null,
   "metadata": {
    "scrolled": true
   },
   "outputs": [],
   "source": [
    "prescriber_and_physician_df = pd.merge(prescriber_df,physician_df,how= left_on='npi',right_on='npi2')\n",
    "prescriber_and_physician_df.head(1)"
   ]
  },
  {
   "cell_type": "code",
   "execution_count": null,
   "metadata": {},
   "outputs": [],
   "source": [
    "prescriber_and_physician_df.shape"
   ]
  },
  {
   "cell_type": "code",
   "execution_count": null,
   "metadata": {},
   "outputs": [],
   "source": [
    "prescriber_and_physician_df = prescriber_and_physician_df.drop_duplicates()"
   ]
  },
  {
   "cell_type": "code",
   "execution_count": null,
   "metadata": {},
   "outputs": [],
   "source": [
    "prescriber_and_physician_df.shape"
   ]
  },
  {
   "cell_type": "code",
   "execution_count": null,
   "metadata": {},
   "outputs": [],
   "source": [
    "prescriber_and_physician_df.head(2)"
   ]
  },
  {
   "cell_type": "code",
   "execution_count": null,
   "metadata": {},
   "outputs": [],
   "source": [
    "prescriber_and_physician_df.shape"
   ]
  },
  {
   "cell_type": "code",
   "execution_count": null,
   "metadata": {},
   "outputs": [],
   "source": [
    "prescriber_and_physician_df.to_csv('../data/1.csv', index = False)"
   ]
  },
  {
   "cell_type": "code",
   "execution_count": null,
   "metadata": {},
   "outputs": [],
   "source": []
  }
 ],
 "metadata": {
  "kernelspec": {
   "display_name": "Python 3",
   "language": "python",
   "name": "python3"
  },
  "language_info": {
   "codemirror_mode": {
    "name": "ipython",
    "version": 3
   },
   "file_extension": ".py",
   "mimetype": "text/x-python",
   "name": "python",
   "nbconvert_exporter": "python",
   "pygments_lexer": "ipython3",
   "version": "3.7.6"
  }
 },
 "nbformat": 4,
 "nbformat_minor": 4
}
