{
 "cells": [
  {
   "cell_type": "code",
   "execution_count": 1,
   "metadata": {},
   "outputs": [],
   "source": [
    "import pandas as pd\n",
    "import numpy as np"
   ]
  },
  {
   "cell_type": "markdown",
   "metadata": {},
   "source": [
    "Prescriber Data  \n",
    "https://data.cms.gov/Medicare-Part-D/Medicare-Provider-Utilization-and-Payment-Data-201/77gb-8z53  \n",
    "Physician Compare data  \n",
    "https://data.medicare.gov/Physician-Compare/Physician-Compare-National-Downloadable-File/mj5m-pzi6"
   ]
  },
  {
   "cell_type": "markdown",
   "metadata": {},
   "source": [
    "### ** Consider reodering cells below to query antipsychotics before merging"
   ]
  },
  {
   "cell_type": "markdown",
   "metadata": {},
   "source": [
    "\n",
    "#### read in, select columns, rename columns for Part D Prescriber data and Physician Data"
   ]
  },
  {
   "cell_type": "code",
   "execution_count": 2,
   "metadata": {
    "scrolled": true
   },
   "outputs": [
    {
     "name": "stdout",
     "output_type": "stream",
     "text": [
      "Wall time: 4min 38s\n"
     ]
    }
   ],
   "source": [
    "%%time\n",
    "prescriber_df = pd.read_csv('../data/archive/Medicare_Provider_Utilization_and_Payment_Data__2017_Part_D_Prescriber.csv')\n",
    "prescriber_df = prescriber_df.rename(columns={'nppes_provider_last_org_name':'last_name','nppes_provider_first_name':'first_name',\n",
    "                                              'nppes_provider_city':'city','nppes_provider_state': 'state',\n",
    "                                              'specialty_description':'specialty','generic_name':'drug',})"
   ]
  },
  {
   "cell_type": "code",
   "execution_count": 3,
   "metadata": {},
   "outputs": [],
   "source": [
    "list_of_all_antipsychs = ['ARIPIPRAZOLE',\n",
    "'ARIPIPRAZOLE LAUROXIL',\n",
    "'CHLORPROMAZINE HCL',\n",
    "'CLOZAPINE',\n",
    "'ILOPERIDONE',\n",
    "'FLUPHENAZINE DECANOATE',\n",
    "'FLUPHENAZINE HCL',\n",
    "'ZIPRASIDONE HCL',\n",
    "'ZIPRASIDONE MESYLATE',\n",
    "'HALOPERIDOL LACTATE',\n",
    "'HALOPERIDOL DECANOATE',\n",
    "'HALOPERIDOL',\n",
    "'PALIPERIDONE',\n",
    "'PALIPERIDONE PALMITATE',\n",
    "'LURASIDONE HCL',\n",
    "'LOXAPINE SUCCINATE',\n",
    "'MOLINDONE HCL',\n",
    "'PIMAVANSERIN TARTRATE',\n",
    "'OLANZAPINE',\n",
    "'OLANZAPINE/FLUOXETINE HCL',\n",
    "'PIMOZIDE',\n",
    "'PERPHENAZINE',\n",
    "'PERPHENAZINE/AMITRIPTYLINE HCL',\n",
    "'QUETIAPINE FUMARATE',\n",
    "'BREXPIPRAZOLE',\n",
    "'RISPERIDONE',\n",
    "'RISPERIDONE MICROSPHERES',\n",
    "'ASENAPINE MALEATE',\n",
    "'THIORIDAZINE HCL',\n",
    "'THIOTHIXENE',\n",
    "'TRIFLUOPERAZINE HCL',\n",
    "'CARIPRAZINE HCL',\n",
    "'OLANZAPINE PAMOATE']"
   ]
  },
  {
   "cell_type": "code",
   "execution_count": 4,
   "metadata": {},
   "outputs": [
    {
     "data": {
      "text/plain": [
       "(25209130, 21)"
      ]
     },
     "execution_count": 4,
     "metadata": {},
     "output_type": "execute_result"
    }
   ],
   "source": [
    "prescriber_df.shape"
   ]
  },
  {
   "cell_type": "code",
   "execution_count": 5,
   "metadata": {},
   "outputs": [],
   "source": [
    "prescriber_df = prescriber_df.query('drug in @list_of_all_antipsychs')"
   ]
  },
  {
   "cell_type": "code",
   "execution_count": 6,
   "metadata": {},
   "outputs": [
    {
     "data": {
      "text/plain": [
       "(509235, 21)"
      ]
     },
     "execution_count": 6,
     "metadata": {},
     "output_type": "execute_result"
    }
   ],
   "source": [
    "prescriber_df.shape"
   ]
  },
  {
   "cell_type": "code",
   "execution_count": 7,
   "metadata": {},
   "outputs": [
    {
     "data": {
      "text/plain": [
       "(509235, 21)"
      ]
     },
     "execution_count": 7,
     "metadata": {},
     "output_type": "execute_result"
    }
   ],
   "source": [
    "prescriber_df_drop_dup = prescriber_df.drop_duplicates()\n",
    "prescriber_df_drop_dup.shape"
   ]
  },
  {
   "cell_type": "code",
   "execution_count": 7,
   "metadata": {},
   "outputs": [
    {
     "data": {
      "text/plain": [
       "7536552.0"
      ]
     },
     "execution_count": 7,
     "metadata": {},
     "output_type": "execute_result"
    }
   ],
   "source": [
    "prescriber_df.total_claim_count_ge65.sum()"
   ]
  },
  {
   "cell_type": "code",
   "execution_count": 8,
   "metadata": {},
   "outputs": [
    {
     "data": {
      "text/plain": [
       "npi                              509235\n",
       "last_name                        509233\n",
       "first_name                       509232\n",
       "city                             509235\n",
       "state                            509235\n",
       "specialty                        509235\n",
       "description_flag                 509235\n",
       "drug_name                        509235\n",
       "drug                             509235\n",
       "bene_count                        99247\n",
       "total_claim_count                509235\n",
       "total_30_day_fill_count          509235\n",
       "total_day_supply                 509235\n",
       "total_drug_cost                  509235\n",
       "bene_count_ge65                  152815\n",
       "bene_count_ge65_suppress_flag    356420\n",
       "total_claim_count_ge65           347730\n",
       "ge65_suppress_flag               161505\n",
       "total_30_day_fill_count_ge65     347730\n",
       "total_day_supply_ge65            347730\n",
       "total_drug_cost_ge65             347730\n",
       "dtype: int64"
      ]
     },
     "execution_count": 8,
     "metadata": {},
     "output_type": "execute_result"
    }
   ],
   "source": [
    "prescriber_df.notnull().sum()"
   ]
  },
  {
   "cell_type": "code",
   "execution_count": 9,
   "metadata": {
    "scrolled": false
   },
   "outputs": [
    {
     "data": {
      "text/plain": [
       "npi                              149764\n",
       "last_name                         62083\n",
       "first_name                        20671\n",
       "city                               8361\n",
       "state                                59\n",
       "specialty                           118\n",
       "description_flag                      2\n",
       "drug_name                            57\n",
       "drug                                 33\n",
       "bene_count                          251\n",
       "total_claim_count                  1192\n",
       "total_30_day_fill_count            6369\n",
       "total_day_supply                  14128\n",
       "total_drug_cost                  329524\n",
       "bene_count_ge65                     161\n",
       "bene_count_ge65_suppress_flag         2\n",
       "total_claim_count_ge65              755\n",
       "ge65_suppress_flag                    2\n",
       "total_30_day_fill_count_ge65       3613\n",
       "total_day_supply_ge65              8075\n",
       "total_drug_cost_ge65             139208\n",
       "dtype: int64"
      ]
     },
     "execution_count": 9,
     "metadata": {},
     "output_type": "execute_result"
    }
   ],
   "source": [
    "prescriber_df.nunique()"
   ]
  },
  {
   "cell_type": "code",
   "execution_count": null,
   "metadata": {},
   "outputs": [],
   "source": [
    "prescriber_df.head(5)"
   ]
  },
  {
   "cell_type": "code",
   "execution_count": null,
   "metadata": {},
   "outputs": [],
   "source": [
    "total_benef = prescriber_df.groupby(['state'])['bene_count_ge65'].sum().to_frame().sort_values(by= ['bene_count_ge65'],ascending=False)"
   ]
  },
  {
   "cell_type": "code",
   "execution_count": null,
   "metadata": {},
   "outputs": [],
   "source": [
    "ak_df = prescriber_df.loc[prescriber_df['state']=='AK']"
   ]
  },
  {
   "cell_type": "code",
   "execution_count": null,
   "metadata": {},
   "outputs": [],
   "source": [
    "ak_df.bene_count_ge65.sum()"
   ]
  },
  {
   "cell_type": "code",
   "execution_count": null,
   "metadata": {},
   "outputs": [],
   "source": [
    "ak_df.npi.count()"
   ]
  },
  {
   "cell_type": "code",
   "execution_count": null,
   "metadata": {},
   "outputs": [],
   "source": []
  },
  {
   "cell_type": "markdown",
   "metadata": {},
   "source": [
    "#### Bring in physician data and merge"
   ]
  },
  {
   "cell_type": "code",
   "execution_count": null,
   "metadata": {},
   "outputs": [],
   "source": [
    "physician_df = pd.read_csv('../data/archive/Physician_Compare_National_Downloadable_File.csv',\n",
    "                           usecols=['NPI','Hospital affiliation CCN 1','Hospital affiliation LBN 1','Hospital affiliation CCN 2',\n",
    "                                   'Hospital affiliation LBN 2','Hospital affiliation CCN 3','Hospital affiliation LBN 3',\n",
    "                                   'Hospital affiliation CCN 4','Hospital affiliation LBN 4','Hospital affiliation CCN 5',\n",
    "                                   'Hospital affiliation LBN 5'])\n",
    "physician_df = physician_df.rename(columns={'NPI': 'npi2','Hospital affiliation CCN 1':'ccn1','Hospital affiliation LBN 1':'lbn1',\n",
    "                                            'Hospital affiliation CCN 2':'ccn2','Hospital affiliation LBN 2':'lbn2',\n",
    "                                            'Hospital affiliation CCN 3':'ccn3','Hospital affiliation LBN 3':'lbn3',\n",
    "                                            'Hospital affiliation CCN 4':'ccn4','Hospital affiliation LBN 4':'lbn4',\n",
    "                                            'Hospital affiliation CCN 5':'ccn5','Hospital affiliation LBN 5':'lbn5'})"
   ]
  },
  {
   "cell_type": "code",
   "execution_count": null,
   "metadata": {
    "scrolled": true
   },
   "outputs": [],
   "source": [
    "#prescriber_and_physician_df = pd.merge(prescriber_df,physician_df,left_on='npi',right_on='npi2')\n",
    "#prescriber_and_physician_df.head(1)"
   ]
  },
  {
   "cell_type": "code",
   "execution_count": null,
   "metadata": {},
   "outputs": [],
   "source": [
    "prescriber_and_physician_df.shape"
   ]
  },
  {
   "cell_type": "code",
   "execution_count": null,
   "metadata": {},
   "outputs": [],
   "source": [
    "prescriber_and_physician_df = prescriber_and_physician_df.drop_duplicates()"
   ]
  },
  {
   "cell_type": "code",
   "execution_count": null,
   "metadata": {},
   "outputs": [],
   "source": [
    "prescriber_and_physician_df.shape"
   ]
  },
  {
   "cell_type": "code",
   "execution_count": null,
   "metadata": {},
   "outputs": [],
   "source": [
    "prescriber_and_physician_df.head(2)"
   ]
  },
  {
   "cell_type": "code",
   "execution_count": null,
   "metadata": {},
   "outputs": [],
   "source": [
    "prescriber_and_physician_df.shape"
   ]
  },
  {
   "cell_type": "code",
   "execution_count": null,
   "metadata": {},
   "outputs": [],
   "source": [
    "prescriber_and_physician_df.to_csv('../data/antipsych_drugs_usa_over65.csv', index = False)"
   ]
  },
  {
   "cell_type": "code",
   "execution_count": null,
   "metadata": {},
   "outputs": [],
   "source": []
  }
 ],
 "metadata": {
  "kernelspec": {
   "display_name": "Python 3",
   "language": "python",
   "name": "python3"
  },
  "language_info": {
   "codemirror_mode": {
    "name": "ipython",
    "version": 3
   },
   "file_extension": ".py",
   "mimetype": "text/x-python",
   "name": "python",
   "nbconvert_exporter": "python",
   "pygments_lexer": "ipython3",
   "version": "3.7.6"
  }
 },
 "nbformat": 4,
 "nbformat_minor": 4
}
