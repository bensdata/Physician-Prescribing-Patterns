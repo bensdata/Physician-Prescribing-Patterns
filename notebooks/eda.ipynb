{
 "cells": [
  {
   "cell_type": "code",
   "execution_count": 1,
   "metadata": {},
   "outputs": [],
   "source": [
    "import pandas as pd\n",
    "import numpy as np"
   ]
  },
  {
   "cell_type": "markdown",
   "metadata": {},
   "source": [
    "Prescriber Data  \n",
    "https://data.cms.gov/Medicare-Part-D/Medicare-Provider-Utilization-and-Payment-Data-201/77gb-8z53  \n",
    "Physician Compare data  \n",
    "https://data.medicare.gov/Physician-Compare/Physician-Compare-National-Downloadable-File/mj5m-pzi6"
   ]
  },
  {
   "cell_type": "markdown",
   "metadata": {},
   "source": [
    "### ** Consider reodering cells below to query antipsychotics before merging"
   ]
  },
  {
   "cell_type": "markdown",
   "metadata": {},
   "source": [
    "\n",
    "#### read in, select columns, rename columns for Part D Prescriber data and Physician Data"
   ]
  },
  {
   "cell_type": "code",
   "execution_count": 2,
   "metadata": {},
   "outputs": [
    {
     "name": "stdout",
     "output_type": "stream",
     "text": [
      "Wall time: 0 ns\n"
     ]
    }
   ],
   "source": [
    "%time\n",
    "prescriber_df = pd.read_csv('../data/archive/Medicare_Provider_Utilization_and_Payment_Data__2017_Part_D_Prescriber.csv', \n",
    "                            usecols=['npi','nppes_provider_last_org_name','nppes_provider_first_name','nppes_provider_city',\n",
    "                                   'nppes_provider_state','specialty_description','generic_name','bene_count_ge65',\n",
    "                                   'total_claim_count_ge65'])\n",
    "prescriber_df = prescriber_df.rename(columns={'nppes_provider_last_org_name':'last_name','nppes_provider_first_name':'first_name',\n",
    "                                              'nppes_provider_city':'city','nppes_provider_state': 'state',\n",
    "                                              'specialty_description':'specialty','generic_name':'drug',})"
   ]
  },
  {
   "cell_type": "code",
   "execution_count": 3,
   "metadata": {},
   "outputs": [],
   "source": [
    "list_of_all_antipsychs = ['ARIPIPRAZOLE',\n",
    "'ARIPIPRAZOLE LAUROXIL',\n",
    "'CHLORPROMAZINE HCL',\n",
    "'CLOZAPINE',\n",
    "'ILOPERIDONE',\n",
    "'FLUPHENAZINE DECANOATE',\n",
    "'FLUPHENAZINE HCL',\n",
    "'ZIPRASIDONE HCL',\n",
    "'ZIPRASIDONE MESYLATE',\n",
    "'HALOPERIDOL LACTATE',\n",
    "'HALOPERIDOL DECANOATE',\n",
    "'HALOPERIDOL',\n",
    "'PALIPERIDONE',\n",
    "'PALIPERIDONE PALMITATE',\n",
    "'LURASIDONE HCL',\n",
    "'LOXAPINE SUCCINATE',\n",
    "'MOLINDONE HCL',\n",
    "'PIMAVANSERIN TARTRATE',\n",
    "'OLANZAPINE',\n",
    "'OLANZAPINE/FLUOXETINE HCL',\n",
    "'PIMOZIDE',\n",
    "'PERPHENAZINE',\n",
    "'PERPHENAZINE/AMITRIPTYLINE HCL',\n",
    "'QUETIAPINE FUMARATE',\n",
    "'BREXPIPRAZOLE',\n",
    "'RISPERIDONE',\n",
    "'RISPERIDONE MICROSPHERES',\n",
    "'ASENAPINE MALEATE',\n",
    "'THIORIDAZINE HCL',\n",
    "'THIOTHIXENE',\n",
    "'TRIFLUOPERAZINE HCL',\n",
    "'CARIPRAZINE HCL',\n",
    "'OLANZAPINE PAMOATE']"
   ]
  },
  {
   "cell_type": "code",
   "execution_count": null,
   "metadata": {},
   "outputs": [],
   "source": [
    "prescriber_df.shape"
   ]
  },
  {
   "cell_type": "code",
   "execution_count": 6,
   "metadata": {},
   "outputs": [],
   "source": [
    "prescriber_df = prescriber_df.query('drug in @list_of_all_antipsychs')"
   ]
  },
  {
   "cell_type": "code",
   "execution_count": 7,
   "metadata": {},
   "outputs": [
    {
     "data": {
      "text/plain": [
       "(509235, 9)"
      ]
     },
     "execution_count": 7,
     "metadata": {},
     "output_type": "execute_result"
    }
   ],
   "source": [
    "prescriber_df.shape"
   ]
  },
  {
   "cell_type": "code",
   "execution_count": 8,
   "metadata": {},
   "outputs": [
    {
     "data": {
      "text/plain": [
       "npi                            0\n",
       "last_name                      2\n",
       "first_name                     3\n",
       "city                           0\n",
       "state                          0\n",
       "specialty                      0\n",
       "drug                           0\n",
       "bene_count_ge65           356420\n",
       "total_claim_count_ge65    161505\n",
       "dtype: int64"
      ]
     },
     "execution_count": 8,
     "metadata": {},
     "output_type": "execute_result"
    }
   ],
   "source": [
    "prescriber_df.isna().sum()"
   ]
  },
  {
   "cell_type": "code",
   "execution_count": 9,
   "metadata": {},
   "outputs": [
    {
     "data": {
      "text/plain": [
       "npi                       509235\n",
       "last_name                 509233\n",
       "first_name                509232\n",
       "city                      509235\n",
       "state                     509235\n",
       "specialty                 509235\n",
       "drug                      509235\n",
       "bene_count_ge65           152815\n",
       "total_claim_count_ge65    347730\n",
       "dtype: int64"
      ]
     },
     "execution_count": 9,
     "metadata": {},
     "output_type": "execute_result"
    }
   ],
   "source": [
    "prescriber_df.notnull().sum()"
   ]
  },
  {
   "cell_type": "code",
   "execution_count": 10,
   "metadata": {},
   "outputs": [
    {
     "data": {
      "text/plain": [
       "npi                       149764\n",
       "last_name                  62083\n",
       "first_name                 20671\n",
       "city                        8361\n",
       "state                         59\n",
       "specialty                    118\n",
       "drug                          33\n",
       "bene_count_ge65              161\n",
       "total_claim_count_ge65       755\n",
       "dtype: int64"
      ]
     },
     "execution_count": 10,
     "metadata": {},
     "output_type": "execute_result"
    }
   ],
   "source": [
    "prescriber_df.nunique()"
   ]
  },
  {
   "cell_type": "code",
   "execution_count": null,
   "metadata": {},
   "outputs": [],
   "source": [
    "prescriber_df.groupby(['state'])[prescriber_df.bene_count_ge65].sum()"
   ]
  },
  {
   "cell_type": "code",
   "execution_count": 11,
   "metadata": {},
   "outputs": [],
   "source": [
    "al_df = prescriber_df.loc[prescriber_df['state']=='AL']"
   ]
  },
  {
   "cell_type": "code",
   "execution_count": 12,
   "metadata": {},
   "outputs": [
    {
     "data": {
      "text/plain": [
       "6583.0"
      ]
     },
     "execution_count": 12,
     "metadata": {},
     "output_type": "execute_result"
    }
   ],
   "source": [
    "al_df.bene_count_ge65.sum()"
   ]
  },
  {
   "cell_type": "markdown",
   "metadata": {},
   "source": [
    "#### Bring in physician data and merge"
   ]
  },
  {
   "cell_type": "code",
   "execution_count": 3,
   "metadata": {},
   "outputs": [
    {
     "name": "stderr",
     "output_type": "stream",
     "text": [
      "C:\\Users\\ben\\anaconda3\\lib\\site-packages\\IPython\\core\\interactiveshell.py:3063: DtypeWarning: Columns (29,31,33) have mixed types.Specify dtype option on import or set low_memory=False.\n",
      "  interactivity=interactivity, compiler=compiler, result=result)\n"
     ]
    }
   ],
   "source": [
    "physician_df = pd.read_csv('../data/archive/Physician_Compare_National_Downloadable_File.csv',\n",
    "                           usecols=['NPI','Hospital affiliation CCN 1','Hospital affiliation LBN 1','Hospital affiliation CCN 2',\n",
    "                                   'Hospital affiliation LBN 2','Hospital affiliation CCN 3','Hospital affiliation LBN 3',\n",
    "                                   'Hospital affiliation CCN 4','Hospital affiliation LBN 4','Hospital affiliation CCN 5',\n",
    "                                   'Hospital affiliation LBN 5'])\n",
    "physician_df = physician_df.rename(columns={'NPI': 'npi2','Hospital affiliation CCN 1':'ccn1','Hospital affiliation LBN 1':'lbn1',\n",
    "                                            'Hospital affiliation CCN 2':'ccn2','Hospital affiliation LBN 2':'lbn2',\n",
    "                                            'Hospital affiliation CCN 3':'ccn3','Hospital affiliation LBN 3':'lbn3',\n",
    "                                            'Hospital affiliation CCN 4':'ccn4','Hospital affiliation LBN 4':'lbn4',\n",
    "                                            'Hospital affiliation CCN 5':'ccn5','Hospital affiliation LBN 5':'lbn5'})"
   ]
  },
  {
   "cell_type": "code",
   "execution_count": 4,
   "metadata": {
    "scrolled": true
   },
   "outputs": [],
   "source": [
    "#prescriber_and_physician_df = pd.merge(prescriber_df,physician_df,left_on='npi',right_on='npi2')\n",
    "#prescriber_and_physician_df.head(1)"
   ]
  },
  {
   "cell_type": "code",
   "execution_count": 10,
   "metadata": {},
   "outputs": [
    {
     "data": {
      "text/plain": [
       "(2183992, 11)"
      ]
     },
     "execution_count": 10,
     "metadata": {},
     "output_type": "execute_result"
    }
   ],
   "source": [
    "prescriber_and_physician_df.shape"
   ]
  },
  {
   "cell_type": "code",
   "execution_count": 13,
   "metadata": {},
   "outputs": [
    {
     "name": "stderr",
     "output_type": "stream",
     "text": [
      "ERROR:root:Internal Python error in the inspect module.\n",
      "Below is the traceback from this internal error.\n",
      "\n"
     ]
    },
    {
     "name": "stdout",
     "output_type": "stream",
     "text": [
      "Traceback (most recent call last):\n",
      "  File \"C:\\Users\\ben\\anaconda3\\lib\\site-packages\\IPython\\core\\interactiveshell.py\", line 3331, in run_code\n",
      "    exec(code_obj, self.user_global_ns, self.user_ns)\n",
      "  File \"<ipython-input-13-e1aec52f0918>\", line 1, in <module>\n",
      "    all_drugs_usa_over65_drop_dup = all_drugs_usa_over65.drop_duplicates()\n",
      "  File \"C:\\Users\\ben\\anaconda3\\lib\\site-packages\\pandas\\core\\frame.py\", line 4811, in drop_duplicates\n",
      "    duplicated = self.duplicated(subset, keep=keep)\n",
      "  File \"C:\\Users\\ben\\anaconda3\\lib\\site-packages\\pandas\\core\\frame.py\", line 4888, in duplicated\n",
      "    labels, shape = map(list, zip(*map(f, vals)))\n",
      "  File \"C:\\Users\\ben\\anaconda3\\lib\\site-packages\\pandas\\core\\frame.py\", line 4863, in f\n",
      "    vals, size_hint=min(len(self), _SIZE_HINT_LIMIT)\n",
      "  File \"C:\\Users\\ben\\anaconda3\\lib\\site-packages\\pandas\\core\\algorithms.py\", line 636, in factorize\n",
      "    values, na_sentinel=na_sentinel, size_hint=size_hint, na_value=na_value\n",
      "  File \"C:\\Users\\ben\\anaconda3\\lib\\site-packages\\pandas\\core\\algorithms.py\", line 481, in _factorize_array\n",
      "    hash_klass, values = _get_data_algo(values)\n",
      "  File \"C:\\Users\\ben\\anaconda3\\lib\\site-packages\\pandas\\core\\algorithms.py\", line 258, in _get_data_algo\n",
      "    ndtype = _check_object_for_strings(values)\n",
      "KeyboardInterrupt\n",
      "\n",
      "During handling of the above exception, another exception occurred:\n",
      "\n",
      "Traceback (most recent call last):\n",
      "  File \"C:\\Users\\ben\\anaconda3\\lib\\site-packages\\IPython\\core\\interactiveshell.py\", line 2044, in showtraceback\n",
      "    stb = value._render_traceback_()\n",
      "AttributeError: 'KeyboardInterrupt' object has no attribute '_render_traceback_'\n",
      "\n",
      "During handling of the above exception, another exception occurred:\n",
      "\n",
      "Traceback (most recent call last):\n",
      "  File \"C:\\Users\\ben\\anaconda3\\lib\\site-packages\\IPython\\core\\ultratb.py\", line 1151, in get_records\n",
      "    return _fixed_getinnerframes(etb, number_of_lines_of_context, tb_offset)\n",
      "  File \"C:\\Users\\ben\\anaconda3\\lib\\site-packages\\IPython\\core\\ultratb.py\", line 319, in wrapped\n",
      "    return f(*args, **kwargs)\n",
      "  File \"C:\\Users\\ben\\anaconda3\\lib\\site-packages\\IPython\\core\\ultratb.py\", line 351, in _fixed_getinnerframes\n",
      "    LNUM_POS, LINES_POS, INDEX_POS = 2, 4, 5\n",
      "KeyboardInterrupt\n"
     ]
    },
    {
     "ename": "KeyboardInterrupt",
     "evalue": "",
     "output_type": "error",
     "traceback": [
      "\u001b[1;31m---------------------------------------------------------------------------\u001b[0m"
     ]
    }
   ],
   "source": [
    "prescriber_and_physician_df = prescriber_and_physician_df.drop_duplicates()"
   ]
  },
  {
   "cell_type": "code",
   "execution_count": 15,
   "metadata": {},
   "outputs": [
    {
     "data": {
      "text/plain": [
       "(20457591, 20)"
      ]
     },
     "execution_count": 15,
     "metadata": {},
     "output_type": "execute_result"
    }
   ],
   "source": [
    "prescriber_and_physician_df.shape"
   ]
  },
  {
   "cell_type": "code",
   "execution_count": 18,
   "metadata": {},
   "outputs": [
    {
     "data": {
      "text/html": [
       "<div>\n",
       "<style scoped>\n",
       "    .dataframe tbody tr th:only-of-type {\n",
       "        vertical-align: middle;\n",
       "    }\n",
       "\n",
       "    .dataframe tbody tr th {\n",
       "        vertical-align: top;\n",
       "    }\n",
       "\n",
       "    .dataframe thead th {\n",
       "        text-align: right;\n",
       "    }\n",
       "</style>\n",
       "<table border=\"1\" class=\"dataframe\">\n",
       "  <thead>\n",
       "    <tr style=\"text-align: right;\">\n",
       "      <th></th>\n",
       "      <th>npi</th>\n",
       "      <th>last_name</th>\n",
       "      <th>first_name</th>\n",
       "      <th>city</th>\n",
       "      <th>state</th>\n",
       "      <th>specialty</th>\n",
       "      <th>drug</th>\n",
       "      <th>bene_count_ge65</th>\n",
       "      <th>total_claim_count_ge65</th>\n",
       "      <th>npi2</th>\n",
       "      <th>ccn1</th>\n",
       "      <th>lbn2</th>\n",
       "      <th>ccn2</th>\n",
       "      <th>lbn2</th>\n",
       "      <th>ccn3</th>\n",
       "      <th>lbn3</th>\n",
       "      <th>ccn4</th>\n",
       "      <th>lbn4</th>\n",
       "      <th>ccn5</th>\n",
       "      <th>lbn5</th>\n",
       "    </tr>\n",
       "  </thead>\n",
       "  <tbody>\n",
       "    <tr>\n",
       "      <th>344</th>\n",
       "      <td>1952306417</td>\n",
       "      <td>PARKHURST</td>\n",
       "      <td>REBECCA</td>\n",
       "      <td>ERIE</td>\n",
       "      <td>PA</td>\n",
       "      <td>Physician Assistant</td>\n",
       "      <td>QUETIAPINE FUMARATE</td>\n",
       "      <td>NaN</td>\n",
       "      <td>43.0</td>\n",
       "      <td>1952306417</td>\n",
       "      <td>390146.0</td>\n",
       "      <td>WARREN GENERAL HOSPITAL</td>\n",
       "      <td>NaN</td>\n",
       "      <td>NaN</td>\n",
       "      <td>NaN</td>\n",
       "      <td>NaN</td>\n",
       "      <td>NaN</td>\n",
       "      <td>NaN</td>\n",
       "      <td>NaN</td>\n",
       "      <td>NaN</td>\n",
       "    </tr>\n",
       "    <tr>\n",
       "      <th>444</th>\n",
       "      <td>1427075894</td>\n",
       "      <td>CHOUNZOM</td>\n",
       "      <td>TENZING</td>\n",
       "      <td>MONTEAGLE</td>\n",
       "      <td>TN</td>\n",
       "      <td>Internal Medicine</td>\n",
       "      <td>RISPERIDONE</td>\n",
       "      <td>NaN</td>\n",
       "      <td>25.0</td>\n",
       "      <td>1427075894</td>\n",
       "      <td>440058.0</td>\n",
       "      <td>SOUTHERN TENNESSEE REGIONAL HLTH SYSTEM WINCHE...</td>\n",
       "      <td>NaN</td>\n",
       "      <td>NaN</td>\n",
       "      <td>NaN</td>\n",
       "      <td>NaN</td>\n",
       "      <td>NaN</td>\n",
       "      <td>NaN</td>\n",
       "      <td>NaN</td>\n",
       "      <td>NaN</td>\n",
       "    </tr>\n",
       "  </tbody>\n",
       "</table>\n",
       "</div>"
      ],
      "text/plain": [
       "            npi  last_name first_name       city state            specialty  \\\n",
       "344  1952306417  PARKHURST    REBECCA       ERIE    PA  Physician Assistant   \n",
       "444  1427075894   CHOUNZOM    TENZING  MONTEAGLE    TN    Internal Medicine   \n",
       "\n",
       "                    drug  bene_count_ge65  total_claim_count_ge65        npi2  \\\n",
       "344  QUETIAPINE FUMARATE              NaN                    43.0  1952306417   \n",
       "444          RISPERIDONE              NaN                    25.0  1427075894   \n",
       "\n",
       "         ccn1                                               lbn2 ccn2 lbn2  \\\n",
       "344  390146.0                            WARREN GENERAL HOSPITAL  NaN  NaN   \n",
       "444  440058.0  SOUTHERN TENNESSEE REGIONAL HLTH SYSTEM WINCHE...  NaN  NaN   \n",
       "\n",
       "    ccn3 lbn3 ccn4 lbn4  ccn5 lbn5  \n",
       "344  NaN  NaN  NaN  NaN   NaN  NaN  \n",
       "444  NaN  NaN  NaN  NaN   NaN  NaN  "
      ]
     },
     "execution_count": 18,
     "metadata": {},
     "output_type": "execute_result"
    }
   ],
   "source": [
    "prescriber_and_physician_df.head(2)"
   ]
  },
  {
   "cell_type": "code",
   "execution_count": 19,
   "metadata": {},
   "outputs": [
    {
     "data": {
      "text/plain": [
       "(380112, 20)"
      ]
     },
     "execution_count": 19,
     "metadata": {},
     "output_type": "execute_result"
    }
   ],
   "source": [
    "prescriber_and_physician_df.shape"
   ]
  },
  {
   "cell_type": "code",
   "execution_count": 21,
   "metadata": {},
   "outputs": [],
   "source": [
    "prescriber_and_physician_df.to_csv('../data/antipsych_drugs_usa_over65.csv', index = False)"
   ]
  },
  {
   "cell_type": "code",
   "execution_count": null,
   "metadata": {},
   "outputs": [],
   "source": []
  }
 ],
 "metadata": {
  "kernelspec": {
   "display_name": "Python 3",
   "language": "python",
   "name": "python3"
  },
  "language_info": {
   "codemirror_mode": {
    "name": "ipython",
    "version": 3
   },
   "file_extension": ".py",
   "mimetype": "text/x-python",
   "name": "python",
   "nbconvert_exporter": "python",
   "pygments_lexer": "ipython3",
   "version": "3.7.6"
  }
 },
 "nbformat": 4,
 "nbformat_minor": 4
}
