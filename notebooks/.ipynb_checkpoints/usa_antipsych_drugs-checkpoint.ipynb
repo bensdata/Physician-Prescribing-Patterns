{
 "cells": [
  {
   "cell_type": "code",
   "execution_count": 1,
   "metadata": {},
   "outputs": [],
   "source": [
    "import pandas as pd\n",
    "import matplotlib.pyplot as plt"
   ]
  },
  {
   "cell_type": "code",
   "execution_count": 2,
   "metadata": {},
   "outputs": [],
   "source": [
    "us_df = pd.read_csv('../data/antipsych_prescriptions.csv')"
   ]
  },
  {
   "cell_type": "code",
   "execution_count": 3,
   "metadata": {},
   "outputs": [
    {
     "data": {
      "text/plain": [
       "(195892, 20)"
      ]
     },
     "execution_count": 3,
     "metadata": {},
     "output_type": "execute_result"
    }
   ],
   "source": [
    "us_df.shape"
   ]
  },
  {
   "cell_type": "code",
   "execution_count": 4,
   "metadata": {},
   "outputs": [
    {
     "data": {
      "text/plain": [
       "Index(['npi', 'last_name', 'first_name', 'city', 'state', 'specialty', 'drug',\n",
       "       'bene_count', 'total_claim_count', 'npi2', 'ccn1', 'lbn2', 'ccn2',\n",
       "       'lbn2.1', 'ccn3', 'lbn3', 'ccn4', 'lbn4', 'ccn5', 'lbn5'],\n",
       "      dtype='object')"
      ]
     },
     "execution_count": 4,
     "metadata": {},
     "output_type": "execute_result"
    }
   ],
   "source": [
    "us_df.columns"
   ]
  },
  {
   "cell_type": "code",
   "execution_count": 7,
   "metadata": {},
   "outputs": [],
   "source": [
    "drug_counts_by_state = us_df.groupby(by=['state','drug'])['total_claim_count'].sum().reset_index()"
   ]
  },
  {
   "cell_type": "code",
   "execution_count": 9,
   "metadata": {},
   "outputs": [
    {
     "data": {
      "text/html": [
       "<div>\n",
       "<style scoped>\n",
       "    .dataframe tbody tr th:only-of-type {\n",
       "        vertical-align: middle;\n",
       "    }\n",
       "\n",
       "    .dataframe tbody tr th {\n",
       "        vertical-align: top;\n",
       "    }\n",
       "\n",
       "    .dataframe thead th {\n",
       "        text-align: right;\n",
       "    }\n",
       "</style>\n",
       "<table border=\"1\" class=\"dataframe\">\n",
       "  <thead>\n",
       "    <tr style=\"text-align: right;\">\n",
       "      <th></th>\n",
       "      <th>state</th>\n",
       "      <th>drug</th>\n",
       "      <th>total_claim_count</th>\n",
       "    </tr>\n",
       "  </thead>\n",
       "  <tbody>\n",
       "    <tr>\n",
       "      <th>0</th>\n",
       "      <td>AE</td>\n",
       "      <td>RISPERIDONE</td>\n",
       "      <td>12</td>\n",
       "    </tr>\n",
       "    <tr>\n",
       "      <th>1</th>\n",
       "      <td>AK</td>\n",
       "      <td>ARIPIPRAZOLE</td>\n",
       "      <td>3564</td>\n",
       "    </tr>\n",
       "    <tr>\n",
       "      <th>2</th>\n",
       "      <td>AK</td>\n",
       "      <td>BREXPIPRAZOLE</td>\n",
       "      <td>136</td>\n",
       "    </tr>\n",
       "    <tr>\n",
       "      <th>3</th>\n",
       "      <td>AK</td>\n",
       "      <td>CLOZAPINE</td>\n",
       "      <td>1184</td>\n",
       "    </tr>\n",
       "    <tr>\n",
       "      <th>4</th>\n",
       "      <td>AK</td>\n",
       "      <td>HALOPERIDOL</td>\n",
       "      <td>1122</td>\n",
       "    </tr>\n",
       "    <tr>\n",
       "      <th>5</th>\n",
       "      <td>AK</td>\n",
       "      <td>OLANZAPINE</td>\n",
       "      <td>5567</td>\n",
       "    </tr>\n",
       "    <tr>\n",
       "      <th>6</th>\n",
       "      <td>AK</td>\n",
       "      <td>PALIPERIDONE</td>\n",
       "      <td>452</td>\n",
       "    </tr>\n",
       "    <tr>\n",
       "      <th>7</th>\n",
       "      <td>AK</td>\n",
       "      <td>PERPHENAZINE</td>\n",
       "      <td>321</td>\n",
       "    </tr>\n",
       "    <tr>\n",
       "      <th>8</th>\n",
       "      <td>AK</td>\n",
       "      <td>RISPERIDONE</td>\n",
       "      <td>4568</td>\n",
       "    </tr>\n",
       "    <tr>\n",
       "      <th>9</th>\n",
       "      <td>AL</td>\n",
       "      <td>AMOXAPINE</td>\n",
       "      <td>176</td>\n",
       "    </tr>\n",
       "    <tr>\n",
       "      <th>10</th>\n",
       "      <td>AL</td>\n",
       "      <td>ARIPIPRAZOLE</td>\n",
       "      <td>34856</td>\n",
       "    </tr>\n",
       "    <tr>\n",
       "      <th>11</th>\n",
       "      <td>AL</td>\n",
       "      <td>BREXPIPRAZOLE</td>\n",
       "      <td>1433</td>\n",
       "    </tr>\n",
       "    <tr>\n",
       "      <th>12</th>\n",
       "      <td>AL</td>\n",
       "      <td>CLOZAPINE</td>\n",
       "      <td>6029</td>\n",
       "    </tr>\n",
       "    <tr>\n",
       "      <th>13</th>\n",
       "      <td>AL</td>\n",
       "      <td>HALOPERIDOL</td>\n",
       "      <td>12986</td>\n",
       "    </tr>\n",
       "    <tr>\n",
       "      <th>14</th>\n",
       "      <td>AL</td>\n",
       "      <td>OLANZAPINE</td>\n",
       "      <td>37830</td>\n",
       "    </tr>\n",
       "    <tr>\n",
       "      <th>15</th>\n",
       "      <td>AL</td>\n",
       "      <td>PALIPERIDONE</td>\n",
       "      <td>3618</td>\n",
       "    </tr>\n",
       "    <tr>\n",
       "      <th>16</th>\n",
       "      <td>AL</td>\n",
       "      <td>PERPHENAZINE</td>\n",
       "      <td>2074</td>\n",
       "    </tr>\n",
       "    <tr>\n",
       "      <th>17</th>\n",
       "      <td>AL</td>\n",
       "      <td>PIMOZIDE</td>\n",
       "      <td>79</td>\n",
       "    </tr>\n",
       "    <tr>\n",
       "      <th>18</th>\n",
       "      <td>AL</td>\n",
       "      <td>PROCHLORPERAZINE</td>\n",
       "      <td>429</td>\n",
       "    </tr>\n",
       "    <tr>\n",
       "      <th>19</th>\n",
       "      <td>AL</td>\n",
       "      <td>RISPERIDONE</td>\n",
       "      <td>45527</td>\n",
       "    </tr>\n",
       "  </tbody>\n",
       "</table>\n",
       "</div>"
      ],
      "text/plain": [
       "   state              drug  total_claim_count\n",
       "0     AE       RISPERIDONE                 12\n",
       "1     AK      ARIPIPRAZOLE               3564\n",
       "2     AK     BREXPIPRAZOLE                136\n",
       "3     AK         CLOZAPINE               1184\n",
       "4     AK       HALOPERIDOL               1122\n",
       "5     AK        OLANZAPINE               5567\n",
       "6     AK      PALIPERIDONE                452\n",
       "7     AK      PERPHENAZINE                321\n",
       "8     AK       RISPERIDONE               4568\n",
       "9     AL         AMOXAPINE                176\n",
       "10    AL      ARIPIPRAZOLE              34856\n",
       "11    AL     BREXPIPRAZOLE               1433\n",
       "12    AL         CLOZAPINE               6029\n",
       "13    AL       HALOPERIDOL              12986\n",
       "14    AL        OLANZAPINE              37830\n",
       "15    AL      PALIPERIDONE               3618\n",
       "16    AL      PERPHENAZINE               2074\n",
       "17    AL          PIMOZIDE                 79\n",
       "18    AL  PROCHLORPERAZINE                429\n",
       "19    AL       RISPERIDONE              45527"
      ]
     },
     "execution_count": 9,
     "metadata": {},
     "output_type": "execute_result"
    }
   ],
   "source": [
    "drug_counts_by_state.head(20)"
   ]
  },
  {
   "cell_type": "code",
   "execution_count": 12,
   "metadata": {},
   "outputs": [],
   "source": [
    "specialty_counts_by_drug = us_df.groupby(by=['specialty','drug'])['total_claim_count'].sum().reset_index()"
   ]
  },
  {
   "cell_type": "code",
   "execution_count": 13,
   "metadata": {},
   "outputs": [
    {
     "data": {
      "text/html": [
       "<div>\n",
       "<style scoped>\n",
       "    .dataframe tbody tr th:only-of-type {\n",
       "        vertical-align: middle;\n",
       "    }\n",
       "\n",
       "    .dataframe tbody tr th {\n",
       "        vertical-align: top;\n",
       "    }\n",
       "\n",
       "    .dataframe thead th {\n",
       "        text-align: right;\n",
       "    }\n",
       "</style>\n",
       "<table border=\"1\" class=\"dataframe\">\n",
       "  <thead>\n",
       "    <tr style=\"text-align: right;\">\n",
       "      <th></th>\n",
       "      <th>specialty</th>\n",
       "      <th>drug</th>\n",
       "      <th>total_claim_count</th>\n",
       "    </tr>\n",
       "  </thead>\n",
       "  <tbody>\n",
       "    <tr>\n",
       "      <th>0</th>\n",
       "      <td>Addiction Medicine</td>\n",
       "      <td>ARIPIPRAZOLE</td>\n",
       "      <td>1177</td>\n",
       "    </tr>\n",
       "    <tr>\n",
       "      <th>1</th>\n",
       "      <td>Addiction Medicine</td>\n",
       "      <td>BREXPIPRAZOLE</td>\n",
       "      <td>51</td>\n",
       "    </tr>\n",
       "    <tr>\n",
       "      <th>2</th>\n",
       "      <td>Addiction Medicine</td>\n",
       "      <td>CLOZAPINE</td>\n",
       "      <td>793</td>\n",
       "    </tr>\n",
       "    <tr>\n",
       "      <th>3</th>\n",
       "      <td>Addiction Medicine</td>\n",
       "      <td>HALOPERIDOL</td>\n",
       "      <td>225</td>\n",
       "    </tr>\n",
       "    <tr>\n",
       "      <th>4</th>\n",
       "      <td>Addiction Medicine</td>\n",
       "      <td>OLANZAPINE</td>\n",
       "      <td>924</td>\n",
       "    </tr>\n",
       "    <tr>\n",
       "      <th>5</th>\n",
       "      <td>Addiction Medicine</td>\n",
       "      <td>PALIPERIDONE</td>\n",
       "      <td>92</td>\n",
       "    </tr>\n",
       "    <tr>\n",
       "      <th>6</th>\n",
       "      <td>Addiction Medicine</td>\n",
       "      <td>PERPHENAZINE</td>\n",
       "      <td>69</td>\n",
       "    </tr>\n",
       "    <tr>\n",
       "      <th>7</th>\n",
       "      <td>Addiction Medicine</td>\n",
       "      <td>RISPERIDONE</td>\n",
       "      <td>1094</td>\n",
       "    </tr>\n",
       "    <tr>\n",
       "      <th>8</th>\n",
       "      <td>Allergy/ Immunology</td>\n",
       "      <td>ARIPIPRAZOLE</td>\n",
       "      <td>75</td>\n",
       "    </tr>\n",
       "    <tr>\n",
       "      <th>9</th>\n",
       "      <td>Allergy/ Immunology</td>\n",
       "      <td>CLOZAPINE</td>\n",
       "      <td>19</td>\n",
       "    </tr>\n",
       "    <tr>\n",
       "      <th>10</th>\n",
       "      <td>Allergy/ Immunology</td>\n",
       "      <td>HALOPERIDOL</td>\n",
       "      <td>69</td>\n",
       "    </tr>\n",
       "    <tr>\n",
       "      <th>11</th>\n",
       "      <td>Allergy/ Immunology</td>\n",
       "      <td>OLANZAPINE</td>\n",
       "      <td>134</td>\n",
       "    </tr>\n",
       "    <tr>\n",
       "      <th>12</th>\n",
       "      <td>Allergy/ Immunology</td>\n",
       "      <td>PERPHENAZINE</td>\n",
       "      <td>12</td>\n",
       "    </tr>\n",
       "    <tr>\n",
       "      <th>13</th>\n",
       "      <td>Allergy/ Immunology</td>\n",
       "      <td>RISPERIDONE</td>\n",
       "      <td>312</td>\n",
       "    </tr>\n",
       "    <tr>\n",
       "      <th>14</th>\n",
       "      <td>Anesthesiology</td>\n",
       "      <td>ARIPIPRAZOLE</td>\n",
       "      <td>459</td>\n",
       "    </tr>\n",
       "    <tr>\n",
       "      <th>15</th>\n",
       "      <td>Anesthesiology</td>\n",
       "      <td>CLOZAPINE</td>\n",
       "      <td>86</td>\n",
       "    </tr>\n",
       "    <tr>\n",
       "      <th>16</th>\n",
       "      <td>Anesthesiology</td>\n",
       "      <td>HALOPERIDOL</td>\n",
       "      <td>149</td>\n",
       "    </tr>\n",
       "  </tbody>\n",
       "</table>\n",
       "</div>"
      ],
      "text/plain": [
       "              specialty           drug  total_claim_count\n",
       "0    Addiction Medicine   ARIPIPRAZOLE               1177\n",
       "1    Addiction Medicine  BREXPIPRAZOLE                 51\n",
       "2    Addiction Medicine      CLOZAPINE                793\n",
       "3    Addiction Medicine    HALOPERIDOL                225\n",
       "4    Addiction Medicine     OLANZAPINE                924\n",
       "5    Addiction Medicine   PALIPERIDONE                 92\n",
       "6    Addiction Medicine   PERPHENAZINE                 69\n",
       "7    Addiction Medicine    RISPERIDONE               1094\n",
       "8   Allergy/ Immunology   ARIPIPRAZOLE                 75\n",
       "9   Allergy/ Immunology      CLOZAPINE                 19\n",
       "10  Allergy/ Immunology    HALOPERIDOL                 69\n",
       "11  Allergy/ Immunology     OLANZAPINE                134\n",
       "12  Allergy/ Immunology   PERPHENAZINE                 12\n",
       "13  Allergy/ Immunology    RISPERIDONE                312\n",
       "14       Anesthesiology   ARIPIPRAZOLE                459\n",
       "15       Anesthesiology      CLOZAPINE                 86\n",
       "16       Anesthesiology    HALOPERIDOL                149"
      ]
     },
     "execution_count": 13,
     "metadata": {},
     "output_type": "execute_result"
    }
   ],
   "source": [
    "specialty_counts_by_drug.head(17)"
   ]
  },
  {
   "cell_type": "code",
   "execution_count": 14,
   "metadata": {},
   "outputs": [
    {
     "data": {
      "text/plain": [
       "11"
      ]
     },
     "execution_count": 14,
     "metadata": {},
     "output_type": "execute_result"
    }
   ],
   "source": [
    "us_df.drug.nunique()"
   ]
  },
  {
   "cell_type": "code",
   "execution_count": 16,
   "metadata": {},
   "outputs": [
    {
     "data": {
      "text/plain": [
       "<BarContainer object of 531 artists>"
      ]
     },
     "execution_count": 16,
     "metadata": {},
     "output_type": "execute_result"
    },
    {
     "data": {
      "image/png": "[encoded data removed]",
      "text/plain": [
       "<Figure size 432x288 with 1 Axes>"
      ]
     },
     "metadata": {
      "needs_background": "light"
     },
     "output_type": "display_data"
    }
   ],
   "source": [
    "plt.barh('drug','total_claim_count',data=specialty_counts_by_drug)"
   ]
  },
  {
   "cell_type": "code",
   "execution_count": null,
   "metadata": {},
   "outputs": [],
   "source": [
    "['ARIPIPRAZOLE',\n",
    "'ARIPIPRAZOLE LAUROXIL',\n",
    "'CHLORPROMAZINE HCL',\n",
    "'CLOZAPINE',\n",
    "'ILOPERIDONE',\n",
    "'FLUPHENAZINE DECANOATE',\n",
    "'FLUPHENAZINE HCL',\n",
    "'ZIPRASIDONE HCL',\n",
    "'ZIPRASIDONE MESYLATE',\n",
    "'HALOPERIDOL LACTATE',\n",
    "'HALOPERIDOL DECANOATE',\n",
    "'HALOPERIDOL',\n",
    "'PALIPERIDONE',\n",
    "'PALIPERIDONE PALMITATE',\n",
    "'LURASIDONE HCL',\n",
    "'LOXAPINE SUCCINATE',\n",
    "'MOLINDONE HCL',\n",
    "'PIMAVANSERIN TARTRATE',\n",
    "'OLANZAPINE',\n",
    "'OLANZAPINE/FLUOXETINE HCL',\n",
    "'PIMOZIDE',\n",
    "'PERPHENAZINE',\n",
    "'PERPHENAZINE/AMITRIPTYLINE HCL',\n",
    "'QUETIAPINE FUMARATE',\n",
    "'BREXPIPRAZOLE',\n",
    "'RISPERIDONE',\n",
    "'RISPERIDONE MICROSPHERES',\n",
    "'ASENAPINE MALEATE',\n",
    "'THIORIDAZINE HCL',\n",
    "'THIOTHIXENE',\n",
    "'TRIFLUOPERAZINE HCL',\n",
    "'CARIPRAZINE HCL',\n",
    "'OLANZAPINE PAMOATE']\n"
   ]
  }
 ],
 "metadata": {
  "kernelspec": {
   "display_name": "Python 3",
   "language": "python",
   "name": "python3"
  },
  "language_info": {
   "codemirror_mode": {
    "name": "ipython",
    "version": 3
   },
   "file_extension": ".py",
   "mimetype": "text/x-python",
   "name": "python",
   "nbconvert_exporter": "python",
   "pygments_lexer": "ipython3",
   "version": "3.7.6"
  }
 },
 "nbformat": 4,
 "nbformat_minor": 4
}
