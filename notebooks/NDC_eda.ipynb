{
 "cells": [
  {
   "cell_type": "code",
   "execution_count": 1,
   "metadata": {},
   "outputs": [],
   "source": [
    "import pandas as pd"
   ]
  },
  {
   "cell_type": "code",
   "execution_count": 5,
   "metadata": {},
   "outputs": [],
   "source": [
    "ndc_df = pd.read_csv('../data/product.csv')"
   ]
  },
  {
   "cell_type": "code",
   "execution_count": 7,
   "metadata": {},
   "outputs": [
    {
     "name": "stdout",
     "output_type": "stream",
     "text": [
      "<class 'pandas.core.frame.DataFrame'>\n",
      "RangeIndex: 106379 entries, 0 to 106378\n",
      "Data columns (total 20 columns):\n",
      " #   Column                            Non-Null Count   Dtype  \n",
      "---  ------                            --------------   -----  \n",
      " 0   PRODUCTID                         106379 non-null  object \n",
      " 1   PRODUCTNDC                        106379 non-null  object \n",
      " 2   PRODUCTTYPENAME                   106379 non-null  object \n",
      " 3   PROPRIETARYNAME                   106372 non-null  object \n",
      " 4   PROPRIETARYNAMESUFFIX             11014 non-null   object \n",
      " 5   NONPROPRIETARYNAME                106372 non-null  object \n",
      " 6   DOSAGEFORMNAME                    106379 non-null  object \n",
      " 7   ROUTENAME                         104328 non-null  object \n",
      " 8   STARTMARKETINGDATE                106379 non-null  int64  \n",
      " 9   ENDMARKETINGDATE                  4232 non-null    float64\n",
      " 10  MARKETINGCATEGORYNAME             106379 non-null  object \n",
      " 11  APPLICATIONNUMBER                 92095 non-null   object \n",
      " 12  LABELERNAME                       106379 non-null  object \n",
      " 13  SUBSTANCENAME                     103928 non-null  object \n",
      " 14  ACTIVE_NUMERATOR_STRENGTH         103928 non-null  object \n",
      " 15  ACTIVE_INGRED_UNIT                103928 non-null  object \n",
      " 16  PHARM_CLASSES                     43467 non-null   object \n",
      " 17  DEASCHEDULE                       4476 non-null    object \n",
      " 18  NDC_EXCLUDE_FLAG                  106379 non-null  object \n",
      " 19  LISTING_RECORD_CERTIFIED_THROUGH  102145 non-null  float64\n",
      "dtypes: float64(2), int64(1), object(17)\n",
      "memory usage: 16.2+ MB\n"
     ]
    }
   ],
   "source": [
    "ndc_df.info()"
   ]
  },
  {
   "cell_type": "code",
   "execution_count": 9,
   "metadata": {},
   "outputs": [
    {
     "data": {
      "text/plain": [
       "1313"
      ]
     },
     "execution_count": 9,
     "metadata": {},
     "output_type": "execute_result"
    }
   ],
   "source": [
    "ndc_df.PHARM_CLASSES.nunique()"
   ]
  },
  {
   "cell_type": "code",
   "execution_count": 10,
   "metadata": {},
   "outputs": [
    {
     "data": {
      "text/plain": [
       "Corticosteroid [EPC],Corticosteroid Hormone Receptor Agonists [MoA]                                                                                                                                                                                                                                                                                                                                                                                                                                             1466\n",
       "Atypical Antipsychotic [EPC]                                                                                                                                                                                                                                                                                                                                                                                                                                                                                    1192\n",
       "Full Opioid Agonists [MoA],Opioid Agonist [EPC]                                                                                                                                                                                                                                                                                                                                                                                                                                                                 1124\n",
       "Cyclooxygenase Inhibitors [MoA],Anti-Inflammatory Agents, Non-Steroidal [CS],Nonsteroidal Anti-inflammatory Drug [EPC]                                                                                                                                                                                                                                                                                                                                                                                          1121\n",
       "Non-Standardized Pollen Allergenic Extract [EPC],Increased Histamine Release [PE],Cell-mediated Immunity [PE],Increased IgG Production [PE],Pollen [CS],Allergens [CS]                                                                                                                                                                                                                                                                                                                                          1101\n",
       "                                                                                                                                                                                                                                                                                                                                                                                                                                                                                                                ... \n",
       "Aldosterone Antagonist [EPC],Aldosterone Antagonists [MoA],Retinoid [EPC],Retinoids [CS],Decreased Sebaceous Gland Activity [PE],Lincosamide Antibacterial [EPC],Lincosamides [CS]                                                                                                                                                                                                                                                                                                                                 1\n",
       "Hydrolytic Lysosomal Glucocerebroside-specific Enzyme [EPC]                                                                                                                                                                                                                                                                                                                                                                                                                                                        1\n",
       "Protease-activated Receptor-1 Antagonist [EPC],Protease-activated Receptor-1 Antagonists [MoA]                                                                                                                                                                                                                                                                                                                                                                                                                     1\n",
       "Allogeneic Cord Blood Hematopoietic Progenitor Cell Therapy [EPC],Hematopoietic Stem Cells [CS],Cells, Allogeneic [EXT]                                                                                                                                                                                                                                                                                                                                                                                            1\n",
       "Vitamin B6 Analog [EPC],Vitamin B 6 [Chemical/Ingredient],Analogs/Derivatives [Chemical/Ingredient],Blood Coagulation Factor [EPC],Increased Coagulation Factor Activity [PE],Calcium [CS],Cations, Divalent [CS],Blood Coagulation Factor [EPC],Increased Coagulation Factor Activity [PE],Calcium [CS],Cations, Divalent [CS],Vitamin B 12 [CS],Vitamin B12 [EPC],Copper Absorption Inhibitor [EPC],Decreased Copper Ion Absorption [PE],Vitamin C [EPC],Ascorbic Acid [CS],Vitamin D [CS],Vitamin D [EPC]       1\n",
       "Name: PHARM_CLASSES, Length: 1313, dtype: int64"
      ]
     },
     "execution_count": 10,
     "metadata": {},
     "output_type": "execute_result"
    }
   ],
   "source": [
    "ndc_df.PHARM_CLASSES.value_counts()"
   ]
  },
  {
   "cell_type": "code",
   "execution_count": null,
   "metadata": {},
   "outputs": [],
   "source": []
  }
 ],
 "metadata": {
  "kernelspec": {
   "display_name": "Python 3",
   "language": "python",
   "name": "python3"
  },
  "language_info": {
   "codemirror_mode": {
    "name": "ipython",
    "version": 3
   },
   "file_extension": ".py",
   "mimetype": "text/x-python",
   "name": "python",
   "nbconvert_exporter": "python",
   "pygments_lexer": "ipython3",
   "version": "3.7.6"
  }
 },
 "nbformat": 4,
 "nbformat_minor": 4
}
