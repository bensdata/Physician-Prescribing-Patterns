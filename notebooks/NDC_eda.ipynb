{
 "cells": [
  {
   "cell_type": "code",
   "execution_count": 2,
   "metadata": {},
   "outputs": [],
   "source": [
    "import pandas as pd"
   ]
  },
  {
   "cell_type": "code",
   "execution_count": 10,
   "metadata": {},
   "outputs": [],
   "source": [
    "#ndc_df = pd.read_csv('../data/product.csv')\n"
   ]
  },
  {
   "cell_type": "code",
   "execution_count": 4,
   "metadata": {},
   "outputs": [
    {
     "name": "stdout",
     "output_type": "stream",
     "text": [
      "<class 'pandas.core.frame.DataFrame'>\n",
      "RangeIndex: 106379 entries, 0 to 106378\n",
      "Data columns (total 20 columns):\n",
      " #   Column                            Non-Null Count   Dtype  \n",
      "---  ------                            --------------   -----  \n",
      " 0   PRODUCTID                         106379 non-null  object \n",
      " 1   PRODUCTNDC                        106379 non-null  object \n",
      " 2   PRODUCTTYPENAME                   106379 non-null  object \n",
      " 3   PROPRIETARYNAME                   106372 non-null  object \n",
      " 4   PROPRIETARYNAMESUFFIX             11014 non-null   object \n",
      " 5   NONPROPRIETARYNAME                106372 non-null  object \n",
      " 6   DOSAGEFORMNAME                    106379 non-null  object \n",
      " 7   ROUTENAME                         104328 non-null  object \n",
      " 8   STARTMARKETINGDATE                106379 non-null  int64  \n",
      " 9   ENDMARKETINGDATE                  4232 non-null    float64\n",
      " 10  MARKETINGCATEGORYNAME             106379 non-null  object \n",
      " 11  APPLICATIONNUMBER                 92095 non-null   object \n",
      " 12  LABELERNAME                       106379 non-null  object \n",
      " 13  SUBSTANCENAME                     103928 non-null  object \n",
      " 14  ACTIVE_NUMERATOR_STRENGTH         103928 non-null  object \n",
      " 15  ACTIVE_INGRED_UNIT                103928 non-null  object \n",
      " 16  PHARM_CLASSES                     43467 non-null   object \n",
      " 17  DEASCHEDULE                       4476 non-null    object \n",
      " 18  NDC_EXCLUDE_FLAG                  106379 non-null  object \n",
      " 19  LISTING_RECORD_CERTIFIED_THROUGH  102145 non-null  float64\n",
      "dtypes: float64(2), int64(1), object(17)\n",
      "memory usage: 16.2+ MB\n"
     ]
    }
   ],
   "source": [
    "ndc_df.info()"
   ]
  },
  {
   "cell_type": "code",
   "execution_count": 5,
   "metadata": {},
   "outputs": [
    {
     "data": {
      "text/plain": [
       "PRODUCTID                           106379\n",
       "PRODUCTNDC                          104485\n",
       "PRODUCTTYPENAME                          7\n",
       "PROPRIETARYNAME                      38791\n",
       "PROPRIETARYNAMESUFFIX                 4290\n",
       "NONPROPRIETARYNAME                   18135\n",
       "DOSAGEFORMNAME                         136\n",
       "ROUTENAME                              187\n",
       "STARTMARKETINGDATE                    7362\n",
       "ENDMARKETINGDATE                       745\n",
       "MARKETINGCATEGORYNAME                   10\n",
       "APPLICATIONNUMBER                    10948\n",
       "LABELERNAME                          10812\n",
       "SUBSTANCENAME                         9471\n",
       "ACTIVE_NUMERATOR_STRENGTH             9646\n",
       "ACTIVE_INGRED_UNIT                    2748\n",
       "PHARM_CLASSES                         1313\n",
       "DEASCHEDULE                              4\n",
       "NDC_EXCLUDE_FLAG                         1\n",
       "LISTING_RECORD_CERTIFIED_THROUGH         2\n",
       "dtype: int64"
      ]
     },
     "execution_count": 5,
     "metadata": {},
     "output_type": "execute_result"
    }
   ],
   "source": [
    "ndc_df.nunique()"
   ]
  },
  {
   "cell_type": "code",
   "execution_count": 9,
   "metadata": {},
   "outputs": [
    {
     "data": {
      "text/plain": [
       "<bound method IndexOpsMixin.value_counts of 0                                                       NaN\n",
       "1         Radioactive Diagnostic Agent [EPC],Positron Em...\n",
       "2                                                       NaN\n",
       "3         GLP-1 Receptor Agonist [EPC],Glucagon-Like Pep...\n",
       "4         GLP-1 Receptor Agonist [EPC],Glucagon-Like Pep...\n",
       "                                ...                        \n",
       "106374     Tetracycline-class Drug [EPC],Tetracyclines [CS]\n",
       "106375     Tetracycline-class Drug [EPC],Tetracyclines [CS]\n",
       "106376     Tetracycline-class Drug [EPC],Tetracyclines [CS]\n",
       "106377    Corticosteroid [EPC],Corticosteroid Hormone Re...\n",
       "106378    Azole Antifungal [EPC],Azoles [CS],Cytochrome ...\n",
       "Name: PHARM_CLASSES, Length: 106379, dtype: object>"
      ]
     },
     "execution_count": 9,
     "metadata": {},
     "output_type": "execute_result"
    }
   ],
   "source": [
    "ndc_df.PHARM_CLASSES.value_counts"
   ]
  },
  {
   "cell_type": "code",
   "execution_count": 7,
   "metadata": {},
   "outputs": [
    {
     "data": {
      "text/plain": [
       "Corticosteroid [EPC],Corticosteroid Hormone Receptor Agonists [MoA]                                                                                                                                                                                                                                                                                                                                  1466\n",
       "Atypical Antipsychotic [EPC]                                                                                                                                                                                                                                                                                                                                                                         1192\n",
       "Full Opioid Agonists [MoA],Opioid Agonist [EPC]                                                                                                                                                                                                                                                                                                                                                      1124\n",
       "Cyclooxygenase Inhibitors [MoA],Anti-Inflammatory Agents, Non-Steroidal [CS],Nonsteroidal Anti-inflammatory Drug [EPC]                                                                                                                                                                                                                                                                               1121\n",
       "Non-Standardized Pollen Allergenic Extract [EPC],Increased Histamine Release [PE],Cell-mediated Immunity [PE],Increased IgG Production [PE],Pollen [CS],Allergens [CS]                                                                                                                                                                                                                               1101\n",
       "                                                                                                                                                                                                                                                                                                                                                                                                     ... \n",
       "Carbamoyl Phosphate Synthetase 1 Activator [EPC],Carbamoyl Phosphate Synthetase 1 Activators [MoA]                                                                                                                                                                                                                                                                                                      1\n",
       "Survival Motor Neuron-2-directed RNA Interaction [EPC],Antisense Oligonucleotide [EPC],Oligonucleotides, Antisense [CS],Increased Protein Synthesis [PE]                                                                                                                                                                                                                                                1\n",
       "Antimalarial [EPC],Antimalarial [EPC]                                                                                                                                                                                                                                                                                                                                                                   1\n",
       "Neurokinin 1 Antagonists [MoA],Substance P/Neurokinin-1 Receptor Antagonist [EPC],Cytochrome P450 3A4 Inhibitors [MoA],P-Glycoprotein Inhibitors [MoA],Breast Cancer Resistance Protein Inhibitors [MoA],Serotonin 3 Receptor Antagonists [MoA],Serotonin-3 Receptor Antagonist [EPC]                                                                                                                   1\n",
       "Decreased Renal K+ Excretion [PE],Increased Diuresis [PE],Potassium-sparing Diuretic [EPC],Standardized Insect Venom Allergenic Extract [EPC],Increased Histamine Release [PE],Cell-mediated Immunity [PE],Increased IgG Production [PE],Allergens [CS],Bee Venoms [CS],Increased Diuresis [PE],Thiazide Diuretic [EPC],Thiazides [CS],Aldosterone Antagonist [EPC],Aldosterone Antagonists [MoA]       1\n",
       "Name: PHARM_CLASSES, Length: 1313, dtype: int64"
      ]
     },
     "execution_count": 7,
     "metadata": {},
     "output_type": "execute_result"
    }
   ],
   "source": [
    "ndc_df.PHARM_CLASSES.value_counts()"
   ]
  },
  {
   "cell_type": "code",
   "execution_count": null,
   "metadata": {},
   "outputs": [],
   "source": []
  }
 ],
 "metadata": {
  "kernelspec": {
   "display_name": "Python 3",
   "language": "python",
   "name": "python3"
  },
  "language_info": {
   "codemirror_mode": {
    "name": "ipython",
    "version": 3
   },
   "file_extension": ".py",
   "mimetype": "text/x-python",
   "name": "python",
   "nbconvert_exporter": "python",
   "pygments_lexer": "ipython3",
   "version": "3.7.6"
  }
 },
 "nbformat": 4,
 "nbformat_minor": 4
}
